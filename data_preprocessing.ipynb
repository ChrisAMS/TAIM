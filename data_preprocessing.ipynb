{
 "cells": [
  {
   "cell_type": "code",
   "execution_count": 2,
   "metadata": {},
   "outputs": [],
   "source": [
    "import pandas as pd\n",
    "import numpy as np\n",
    "import pickle\n",
    "import os"
   ]
  },
  {
   "cell_type": "code",
   "execution_count": null,
   "metadata": {},
   "outputs": [],
   "source": [
    "RAW_DATA_PATH = '/home/chrisams/Documents/datasets/data_TAIM/raw'\n",
    "SAVE_DATA_PATH = '/home/chrisams/Documents/datasets/data_TAIM/processed/'\n",
    "COLUMNS = [\n",
    "    'Fecha Hora (YYYY-MM-DD HH:MM)',\n",
    "    'Velocidad de viento en 20.0 metros [mean,m/s]',\n",
    "    'Velocidad de viento en 10.0 metros [mean,m/s]',\n",
    "]\n",
    "V20 = 'Velocidad de viento en 20.0 metros [mean,m/s]'\n",
    "V10 = 'Velocidad de viento en 10.0 metros [mean,m/s]'\n",
    "STATS_PATH = '/home/chrisams/Documents/datasets/data_TAIM/stats.pickle'"
   ]
  },
  {
   "cell_type": "code",
   "execution_count": null,
   "metadata": {},
   "outputs": [],
   "source": [
    "# Read all the data files.\n",
    "for path, _, file_names in os.walk(RAW_DATA_PATH):\n",
    "    eolic_plants_df = [None] * len(file_names)\n",
    "    for i, file_name in enumerate(file_names):\n",
    "        print('{} have index: {}'.format(file_name, i))\n",
    "        full_path = os.path.join(path, file_name)\n",
    "        eolic_plants_df[i] = pd.read_csv(full_path)"
   ]
  },
  {
   "cell_type": "code",
   "execution_count": null,
   "metadata": {},
   "outputs": [],
   "source": [
    "# Clean data and keep only useful columns and rows.\n",
    "\n",
    "min_date = None\n",
    "max_date = None\n",
    "\n",
    "for i in range(len(eolic_plants_df)):\n",
    "    plant =  eolic_plants_df[i]\n",
    "    plant = plant[COLUMNS].set_index(\\\n",
    "                pd.DatetimeIndex(plant['Fecha Hora (YYYY-MM-DD HH:MM)'])\\\n",
    "            ).iloc[:, 1:]\n",
    "    v10_mean = plant[V10].mean()\n",
    "    v20_mean = plant[V20].mean()\n",
    "    alpha = np.log(v10_mean / v20_mean) / np.log(10 / 20)\n",
    "    \n",
    "    plant['85m_speed'] = plant[V20] * np.power(85 / 20, alpha)\n",
    "    \n",
    "    current_min_date = plant.index.min()\n",
    "    current_max_date = plant.index.max()\n",
    "    \n",
    "    if min_date:\n",
    "        if min_date < current_min_date:\n",
    "            min_date = current_min_date\n",
    "    else:\n",
    "        min_date = current_min_date\n",
    "    \n",
    "    if max_date:\n",
    "        if max_date > current_max_date:\n",
    "            max_date = current_max_date\n",
    "    else:\n",
    "        max_date = current_max_date\n",
    "\n",
    "    eolic_plants_df[i] = plant['85m_speed']\n",
    "\n",
    "# Normalize data and keep statistics.\n",
    "stats_dict = {}\n",
    "for i in range(len(eolic_plants_df)):\n",
    "    plant = eolic_plants_df[i][min_date:max_date]\n",
    "    mean = plant.mean()\n",
    "    std = plant.std()\n",
    "    eolic_plants_df[i] = (plant - mean) / std\n",
    "    stats_dict['plant_{}'.format(i)] = {'mean': mean, 'std': std}"
   ]
  },
  {
   "cell_type": "code",
   "execution_count": null,
   "metadata": {},
   "outputs": [],
   "source": [
    "# Save data and statistics.\n",
    "for i, plant in enumerate(eolic_plants_df):\n",
    "    plant.to_csv(os.path.join(SAVE_DATA_PATH, 'plant_{}.csv'.format(i)))\n",
    "\n",
    "with open(STATS_PATH, 'wb') as fp:\n",
    "    pickle.dump(stats_dict, fp)"
   ]
  },
  {
   "cell_type": "code",
   "execution_count": 3,
   "metadata": {},
   "outputs": [],
   "source": [
    "def load_data(data_path, n_plants, p, resample_rule='10T', n_rows=None):\n",
    "    \"\"\"\n",
    "    data_path: directory where the data is saved.\n",
    "    n_plants: number of plants to load (K).\n",
    "    resample: resample rule for data aggregation.\n",
    "    \"\"\"\n",
    "    data = [None] * n_plants\n",
    "    for path, _, file_names in os.walk(data_path):\n",
    "        for i in range(len(file_names)):\n",
    "            if i + 1 > n_plants:\n",
    "                break\n",
    "\n",
    "            data[i] = pd.read_csv(os.path.join(data_path, 'plant_{}.csv'.format(i)),\\\n",
    "                                  index_col=0, names=['85m_speed'], parse_dates=True)\n",
    "\n",
    "            data[i] = data[i].resample(resample_rule).mean().interpolate(method='time')\n",
    "\n",
    "            data[i] = data[i]['85m_speed'].values\n",
    "            \n",
    "            if n_rows:\n",
    "                data[i] = data[i][:n_rows]\n",
    "    \n",
    "    data = np.stack(data, axis=0)\n",
    "    # test_data = data\n",
    "    \n",
    "    if p > 0:\n",
    "        X = np.zeros((n_plants * p, data.shape[1] - p))\n",
    "        j = 0\n",
    "        for i in range(p, data.shape[1]):\n",
    "            for t in range(p):\n",
    "                X[t * n_plants:(t + 1) * n_plants, j] = data[:, (i - 1) - t]\n",
    "            j += 1\n",
    "    else:\n",
    "        X = data\n",
    "    \n",
    "    data = data[:, p:]\n",
    "    \n",
    "    return data, X\n",
    "    # return data, X, test_data"
   ]
  },
  {
   "cell_type": "markdown",
   "metadata": {},
   "source": [
    "# Tests"
   ]
  },
  {
   "cell_type": "code",
   "execution_count": 5,
   "metadata": {},
   "outputs": [],
   "source": [
    "DATA_PATH = '/home/chrisams/Documents/datasets/data_TAIM/processed/'\n",
    "K = 2\n",
    "p = 3\n",
    "n_rows = 1000\n",
    "Y0, X, test = load_data(DATA_PATH, K, p, resample_rule='10T', n_rows=n_rows)"
   ]
  },
  {
   "cell_type": "code",
   "execution_count": 18,
   "metadata": {},
   "outputs": [
    {
     "name": "stdout",
     "output_type": "stream",
     "text": [
      "YO shape: (2, 997) and should be: 2 x 997\n",
      "X shape: (6, 997) and should be: 6 x 997\n",
      "YO: [1.10469029 1.64299099] = DATA: [1.10469029 1.64299099]\n",
      "X: [0.94830146 1.61738329] = DATA: [0.94830146 1.61738329]\n",
      "X: [0.89617185 1.54056019] = DATA: [0.89617185 1.54056019]\n",
      "X: [0.87010704 1.386914  ] = DATA: [0.87010704 1.386914  ]\n",
      "YO: [1.1307551  1.66859869] = DATA: [1.1307551  1.66859869]\n",
      "X: [1.10469029 1.64299099] = DATA: [1.10469029 1.64299099]\n",
      "X: [0.94830146 1.61738329] = DATA: [0.94830146 1.61738329]\n",
      "X: [0.89617185 1.54056019] = DATA: [0.89617185 1.54056019]\n",
      "YO: [1.18288471 1.66859869] = DATA: [1.18288471 1.66859869]\n",
      "X: [1.1307551  1.66859869] = DATA: [1.1307551  1.66859869]\n",
      "X: [1.10469029 1.64299099] = DATA: [1.10469029 1.64299099]\n",
      "X: [0.94830146 1.61738329] = DATA: [0.94830146 1.61738329]\n",
      "YO: [1.20894951 1.77102948] = DATA: [1.20894951 1.77102948]\n",
      "X: [1.18288471 1.66859869] = DATA: [1.18288471 1.66859869]\n",
      "X: [1.1307551  1.66859869] = DATA: [1.1307551  1.66859869]\n",
      "X: [1.10469029 1.64299099] = DATA: [1.10469029 1.64299099]\n",
      "YO: [1.23501432 1.77102948] = DATA: [1.23501432 1.77102948]\n",
      "X: [1.20894951 1.77102948] = DATA: [1.20894951 1.77102948]\n",
      "X: [1.18288471 1.66859869] = DATA: [1.18288471 1.66859869]\n",
      "X: [1.1307551  1.66859869] = DATA: [1.1307551  1.66859869]\n"
     ]
    }
   ],
   "source": [
    "print('YO shape: {} and should be: {} x {}'.format(Y0.shape, K, Y0.shape[1]))\n",
    "print('X shape: {} and should be: {} x {}'.format(X.shape, K * p, Y0.shape[1]))\n",
    "c = 5\n",
    "c_ = 0\n",
    "for i in range(p, test.shape[1]):\n",
    "    print('YO: {} = DATA: {}'.format(Y0[:, i - p], test[:, i]))\n",
    "    for t in range(p):\n",
    "        print('X: {} = DATA: {}'.format(X[t * K: (t + 1) * K, i - p], test[:, i - (t + 1)]))\n",
    "    c_ += 1\n",
    "    if c_ >= c:\n",
    "        break"
   ]
  },
  {
   "cell_type": "code",
   "execution_count": 13,
   "metadata": {},
   "outputs": [
    {
     "data": {
      "text/plain": [
       "[]"
      ]
     },
     "execution_count": 13,
     "metadata": {},
     "output_type": "execute_result"
    }
   ],
   "source": [
    "list(range(1,1))"
   ]
  },
  {
   "cell_type": "code",
   "execution_count": null,
   "metadata": {},
   "outputs": [],
   "source": []
  }
 ],
 "metadata": {
  "kernelspec": {
   "display_name": "Python 3",
   "language": "python",
   "name": "python3"
  },
  "language_info": {
   "codemirror_mode": {
    "name": "ipython",
    "version": 3
   },
   "file_extension": ".py",
   "mimetype": "text/x-python",
   "name": "python",
   "nbconvert_exporter": "python",
   "pygments_lexer": "ipython3",
   "version": "3.6.5"
  }
 },
 "nbformat": 4,
 "nbformat_minor": 2
}
