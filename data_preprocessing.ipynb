{
 "cells": [
  {
   "cell_type": "code",
   "execution_count": 2,
   "metadata": {},
   "outputs": [],
   "source": [
    "import pandas as pd\n",
    "import numpy as np\n",
    "import os"
   ]
  },
  {
   "cell_type": "code",
   "execution_count": 4,
   "metadata": {},
   "outputs": [],
   "source": [
    "DATA_PATH = '/home/chrisams/Documents/data_TAIM/raw'\n",
    "COLUMNS = [\n",
    "    'Fecha Hora (YYYY-MM-DD HH:MM)',\n",
    "    'Velocidad de viento en 20.0 metros [mean,m/s]',\n",
    "    'Velocidad de viento en 10.0 metros [mean,m/s]',\n",
    "]\n",
    "V20 = 'Velocidad de viento en 20.0 metros [mean,m/s]'\n",
    "V10 = 'Velocidad de viento en 10.0 metros [mean,m/s]'"
   ]
  },
  {
   "cell_type": "code",
   "execution_count": null,
   "metadata": {},
   "outputs": [],
   "source": [
    "# Read all the data files.\n",
    "for path, _, file_names in os.walk(DATA_PATH):\n",
    "    eolic_plants_df = [None] * len(file_names)\n",
    "    for i, file_name in enumerate(file_names):\n",
    "        full_path = os.path.join(path, file_name)\n",
    "        eolic_plants_df[i] = pd.read_csv(full_path)"
   ]
  },
  {
   "cell_type": "code",
   "execution_count": null,
   "metadata": {},
   "outputs": [],
   "source": [
    "# Clean data and keep only useful columns and rows.\n",
    "\n",
    "min_date = None\n",
    "max_date = None\n",
    "\n",
    "for i in range(len(eolic_plants_df)):\n",
    "    plant =  eolic_plants_df[i]\n",
    "    plant = plant[COLUMNS].set_index(\\\n",
    "                pd.DatetimeIndex(plant['Fecha Hora (YYYY-MM-DD HH:MM)'])\\\n",
    "            ).iloc[:, 1:]\n",
    "    v10_mean = plant[V10].mean()\n",
    "    v20_mean = plant[V20].mean()\n",
    "    alpha = np.log(v10_mean / v20_mean) / np.log(10 / 20)\n",
    "    \n",
    "    plant['85m_speed'] = plant[V20] * np.power(85 / 20, alpha)\n",
    "    \n",
    "    current_min_date = plant.index.min()\n",
    "    current_max_date = plant.index.max()\n",
    "    \n",
    "    if min_date:\n",
    "        if min_date < current_min_date:\n",
    "            min_date = current_min_date\n",
    "    else:\n",
    "        min_date = current_min_date\n",
    "    \n",
    "    if max_date:\n",
    "        if max_date > current_max_date:\n",
    "            max_date = current_max_date\n",
    "    else:\n",
    "        max_date = current_max_date\n",
    "\n",
    "    eolic_plants_df[i] = plant['85m_speed']\n",
    "\n",
    "for i in range(len(eolic_plants_df)):\n",
    "    eolic_plants_df[i] = eolic_plants_df[i][min_date:max_date]"
   ]
  },
  {
   "cell_type": "code",
   "execution_count": null,
   "metadata": {},
   "outputs": [],
   "source": [
    "for i, plant in enumerate(eolic_plants_df):\n",
    "    plant.to_csv(os.path.join(DATA_PATH, 'plant_{}'.format(i)))"
   ]
  },
  {
   "cell_type": "code",
   "execution_count": 5,
   "metadata": {},
   "outputs": [],
   "source": [
    "plant1 = pd.read_csv(os.path.join(DATA_PATH, 'plant_1'), index_col=0, names=['85m_speed'], parse_dates=True)"
   ]
  },
  {
   "cell_type": "code",
   "execution_count": 8,
   "metadata": {},
   "outputs": [],
   "source": [
    "DATA_PATH = '/home/chrisams/Documents/data_TAIM/processed'"
   ]
  },
  {
   "cell_type": "code",
   "execution_count": 9,
   "metadata": {},
   "outputs": [
    {
     "name": "stdout",
     "output_type": "stream",
     "text": [
      "(398284, 1)\n",
      "(398284, 1)\n",
      "(398284, 1)\n",
      "(398284, 1)\n",
      "(398284, 1)\n",
      "(398284, 1)\n",
      "(398284, 1)\n"
     ]
    }
   ],
   "source": [
    "for path, _, file_names in os.walk(DATA_PATH):\n",
    "    for file_name in file_names:\n",
    "        t = pd.read_csv(os.path.join(DATA_PATH, 'plant_1'), index_col=0, names=['85m_speed'], parse_dates=True)\n",
    "        print(t.shape)\n",
    "        "
   ]
  },
  {
   "cell_type": "code",
   "execution_count": null,
   "metadata": {},
   "outputs": [],
   "source": []
  }
 ],
 "metadata": {
  "kernelspec": {
   "display_name": "Python 3",
   "language": "python",
   "name": "python3"
  },
  "language_info": {
   "codemirror_mode": {
    "name": "ipython",
    "version": 3
   },
   "file_extension": ".py",
   "mimetype": "text/x-python",
   "name": "python",
   "nbconvert_exporter": "python",
   "pygments_lexer": "ipython3",
   "version": "3.6.5"
  }
 },
 "nbformat": 4,
 "nbformat_minor": 2
}
