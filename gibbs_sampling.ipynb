{
 "cells": [
  {
   "cell_type": "code",
   "execution_count": 1,
   "metadata": {},
   "outputs": [],
   "source": [
    "import pandas as pd\n",
    "import numpy as np\n",
    "import os\n",
    "import time\n",
    "import scipy.stats as stats\n",
    "from utils import load_data, val_loglhood, loglhood"
   ]
  },
  {
   "cell_type": "markdown",
   "metadata": {},
   "source": [
    "# Gibbs Sampling"
   ]
  },
  {
   "cell_type": "code",
   "execution_count": 2,
   "metadata": {},
   "outputs": [],
   "source": [
    "def gibbs_sampling(iters, data_path, K, p, q, mh_iters=1,n_rows=None, debug=False):\n",
    "    \"\"\"\n",
    "    data_path: path where data is saved.\n",
    "    K: number of plants (n_plants in load_data function).\n",
    "    p: past time to be considered.\n",
    "    q: sample distribution for parameters.\n",
    "    \"\"\"\n",
    "\n",
    "    print('Loading data...')\n",
    "    Y0, X = load_data(data_path, K, p, resample_rule='10T', n_rows=n_rows)\n",
    "    if debug:\n",
    "        print('Y0 shape: {}'.format(Y0.shape))\n",
    "        print('X shape: {}'.format(X.shape))\n",
    "    \n",
    "    # Theta is the vector of all parameters that will be sampled.\n",
    "    # A and CovU are reshaped un a 1-D vector theta.\n",
    "    theta = init_parameters(K, p, q, Y0, X, debug)\n",
    "    if debug:\n",
    "        print('Parameters intialized!')\n",
    "    samples = []\n",
    "    for i in range(iters):\n",
    "        start_it = time.time()\n",
    "        print('Iteration {}'.format(i))\n",
    "        \n",
    "        # Loop over all parameters and calculate the logLK of the parameters\n",
    "        # given all others.\n",
    "        for j in range(theta.shape[0]):\n",
    "            #print('Theta[{}] sampling...'.format(j))\n",
    "            \"\"\"\n",
    "            while True:\n",
    "                theta[j] = q.rvs()\n",
    "                lk = val_loglhood(theta, Y0, X, debug)\n",
    "                if lk != -np.inf:\n",
    "                    break\n",
    "            \"\"\"\n",
    "            #print('Initialzing metropolis hastings...')\n",
    "            start = time.time()\n",
    "            mh_samples = metropolis_hastings(theta, j, q, mh_iters, Y0, X, debug)\n",
    "            end = time.time()\n",
    "            print('Time for sampling theta[{}]: {}'.format(j, end - start))\n",
    "            #print('Samples obtained from metropolis:')\n",
    "            #print(mh_samples)\n",
    "            theta[j] = np.random.choice(mh_samples)\n",
    "            #print('Random choice of the samples: {}'.format(theta[j]))\n",
    "            \n",
    "        print('-'*20)\n",
    "        A    = np.reshape(theta[:p*K**2],(K*p,K)).swapaxes(0,1)\n",
    "        CovU = np.reshape(theta[p*K**2:],(K,K)).swapaxes(0,1)\n",
    "        CovU = np.dot(CovU.T,CovU)\n",
    "        samples.append([A, CovU])\n",
    "        end_it = time.time()\n",
    "        print('Time for iteration {}: {}'.format(i, end_it - start_it))\n",
    "    print('Finished!')\n",
    "    return samples\n",
    "        \n",
    "    \n",
    "def init_parameters(K, p, q, Y0, X, debug=False):\n",
    "    \"\"\"\n",
    "    Initialization of parameters. This functions search a matrix A\n",
    "    and a matrix CovU that satisfy some conditions that A and CovU\n",
    "    must satisfy.\n",
    "    \"\"\"\n",
    "    if debug:\n",
    "        print('Initializing parameters...')\n",
    "    while True:\n",
    "        theta = np.zeros(K ** 2 * (p + 1))\n",
    "        for i in range(theta.shape[0]):\n",
    "            theta[i] = q.rvs()\n",
    "\n",
    "        # Force CovU to be positive semidefinite.\n",
    "        covu = np.reshape(theta[-K**2:], (K, K)).T\n",
    "        covu = np.dot(covu.T, covu)\n",
    "        theta[-K**2:] = np.reshape(covu, K**2)\n",
    "        \n",
    "        lk = val_loglhood(theta, Y0, X, debug)\n",
    "        if debug:\n",
    "            print('LK = {}'.format(lk))\n",
    "        if lk != -np.inf:\n",
    "            return theta\n",
    "        "
   ]
  },
  {
   "cell_type": "markdown",
   "metadata": {},
   "source": [
    "# Metropolis Hastings"
   ]
  },
  {
   "cell_type": "code",
   "execution_count": 3,
   "metadata": {},
   "outputs": [],
   "source": [
    "# Metropolis Hastings\n",
    "\n",
    "def metropolis_hastings(theta, j, q, iters, Y0, X, debug):\n",
    "    \"\"\"\n",
    "    theta: theta vector with all parameters.\n",
    "    j: theta index of the parameter currently been sampled.\n",
    "    q: jumping distribution.\n",
    "    \"\"\"\n",
    "    samples_mh = [theta[j]] # start sample.\n",
    "    lk_old = val_loglhood(theta, Y0, X, debug)\n",
    "    #print('Old LK: {}'.format(lk_old))\n",
    "    for t in range(iters):\n",
    "        lk_new = -np.inf\n",
    "        #print('Sampling a parameter of theta[{}] that satisfies properties...'.format(j))\n",
    "        while lk_new == -np.inf:\n",
    "            x_new = q.rvs(loc=samples_mh[-1], scale=1)\n",
    "            theta[j] = x_new\n",
    "            lk_new = val_loglhood(theta, Y0, X, debug)\n",
    "        #print('New LK: {}'.format(lk_new))\n",
    "        logalpha = min([lk_new - lk_old + np.log(q.pdf(samples_mh[-1], loc=x_new) / q.pdf(x_new, loc=samples_mh[-1])), 0])\n",
    "        #logalpha = min([(f(x_new, data['Time'], data['Mag'], data['Error']) - \\\n",
    "        #             f(samples[-1], data['Time'], data['Mag'], data['Error'])) + \\\n",
    "        #             np.log(q.pdf(samples[-1], mean=x_new) / q.pdf(x_new, mean=samples[-1])), 0])\n",
    "        alpha = np.exp(logalpha)\n",
    "\n",
    "        u = stats.uniform.rvs()\n",
    "        if u < alpha:\n",
    "            #print('Sample accepted!')\n",
    "            samples_mh.append(x_new)\n",
    "            lk_old = lk_new\n",
    "            # accepted_mh += 1\n",
    "        else:\n",
    "            #print('Sample rejected! Keeping old one')\n",
    "            samples_mh.append(samples_mh[-1])\n",
    "        # rejected_mh += 1\n",
    "        # ratio_mh.append(rejected_mh / (accepted_mh + rejected_mh))\n",
    "    return np.array(samples_mh)"
   ]
  },
  {
   "cell_type": "markdown",
   "metadata": {},
   "source": [
    "# Test"
   ]
  },
  {
   "cell_type": "code",
   "execution_count": 6,
   "metadata": {},
   "outputs": [],
   "source": [
    "DATA_PATH = '/home/chrisams/Documents/datasets/data_TAIM/processed/'\n",
    "q = stats.norm\n",
    "K = 3\n",
    "p = 1\n",
    "iters = 2\n",
    "debug = False\n",
    "mh_iters = 10\n",
    "n_rows = 10000 # Number of rows of the data to load"
   ]
  },
  {
   "cell_type": "code",
   "execution_count": 7,
   "metadata": {},
   "outputs": [
    {
     "name": "stdout",
     "output_type": "stream",
     "text": [
      "Loading data...\n",
      "Iteration 0\n",
      "Time for sampling theta[0]: 5.862992525100708\n",
      "Time for sampling theta[1]: 5.899922609329224\n",
      "Time for sampling theta[2]: 5.949949264526367\n"
     ]
    },
    {
     "ename": "KeyboardInterrupt",
     "evalue": "",
     "output_type": "error",
     "traceback": [
      "\u001b[0;31m---------------------------------------------------------------------------\u001b[0m",
      "\u001b[0;31mKeyboardInterrupt\u001b[0m                         Traceback (most recent call last)",
      "\u001b[0;32m<ipython-input-7-302c09d647be>\u001b[0m in \u001b[0;36m<module>\u001b[0;34m()\u001b[0m\n\u001b[0;32m----> 1\u001b[0;31m \u001b[0msamples\u001b[0m \u001b[0;34m=\u001b[0m \u001b[0mgibbs_sampling\u001b[0m\u001b[0;34m(\u001b[0m\u001b[0miters\u001b[0m\u001b[0;34m,\u001b[0m \u001b[0mDATA_PATH\u001b[0m\u001b[0;34m,\u001b[0m \u001b[0mK\u001b[0m\u001b[0;34m,\u001b[0m \u001b[0mp\u001b[0m\u001b[0;34m,\u001b[0m \u001b[0mq\u001b[0m\u001b[0;34m,\u001b[0m \u001b[0mmh_iters\u001b[0m\u001b[0;34m=\u001b[0m\u001b[0mmh_iters\u001b[0m\u001b[0;34m,\u001b[0m \u001b[0mn_rows\u001b[0m\u001b[0;34m=\u001b[0m\u001b[0mn_rows\u001b[0m\u001b[0;34m,\u001b[0m \u001b[0mdebug\u001b[0m\u001b[0;34m=\u001b[0m\u001b[0mdebug\u001b[0m\u001b[0;34m)\u001b[0m\u001b[0;34m\u001b[0m\u001b[0m\n\u001b[0m",
      "\u001b[0;32m<ipython-input-2-ab38ad8735a6>\u001b[0m in \u001b[0;36mgibbs_sampling\u001b[0;34m(iters, data_path, K, p, q, mh_iters, n_rows, debug)\u001b[0m\n\u001b[1;32m     36\u001b[0m             \u001b[0;31m#print('Initialzing metropolis hastings...')\u001b[0m\u001b[0;34m\u001b[0m\u001b[0;34m\u001b[0m\u001b[0m\n\u001b[1;32m     37\u001b[0m             \u001b[0mstart\u001b[0m \u001b[0;34m=\u001b[0m \u001b[0mtime\u001b[0m\u001b[0;34m.\u001b[0m\u001b[0mtime\u001b[0m\u001b[0;34m(\u001b[0m\u001b[0;34m)\u001b[0m\u001b[0;34m\u001b[0m\u001b[0m\n\u001b[0;32m---> 38\u001b[0;31m             \u001b[0mmh_samples\u001b[0m \u001b[0;34m=\u001b[0m \u001b[0mmetropolis_hastings\u001b[0m\u001b[0;34m(\u001b[0m\u001b[0mtheta\u001b[0m\u001b[0;34m,\u001b[0m \u001b[0mj\u001b[0m\u001b[0;34m,\u001b[0m \u001b[0mq\u001b[0m\u001b[0;34m,\u001b[0m \u001b[0mmh_iters\u001b[0m\u001b[0;34m,\u001b[0m \u001b[0mY0\u001b[0m\u001b[0;34m,\u001b[0m \u001b[0mX\u001b[0m\u001b[0;34m,\u001b[0m \u001b[0mdebug\u001b[0m\u001b[0;34m)\u001b[0m\u001b[0;34m\u001b[0m\u001b[0m\n\u001b[0m\u001b[1;32m     39\u001b[0m             \u001b[0mend\u001b[0m \u001b[0;34m=\u001b[0m \u001b[0mtime\u001b[0m\u001b[0;34m.\u001b[0m\u001b[0mtime\u001b[0m\u001b[0;34m(\u001b[0m\u001b[0;34m)\u001b[0m\u001b[0;34m\u001b[0m\u001b[0m\n\u001b[1;32m     40\u001b[0m             \u001b[0mprint\u001b[0m\u001b[0;34m(\u001b[0m\u001b[0;34m'Time for sampling theta[{}]: {}'\u001b[0m\u001b[0;34m.\u001b[0m\u001b[0mformat\u001b[0m\u001b[0;34m(\u001b[0m\u001b[0mj\u001b[0m\u001b[0;34m,\u001b[0m \u001b[0mend\u001b[0m \u001b[0;34m-\u001b[0m \u001b[0mstart\u001b[0m\u001b[0;34m)\u001b[0m\u001b[0;34m)\u001b[0m\u001b[0;34m\u001b[0m\u001b[0m\n",
      "\u001b[0;32m<ipython-input-3-60959d5aa667>\u001b[0m in \u001b[0;36mmetropolis_hastings\u001b[0;34m(theta, j, q, iters, Y0, X, debug)\u001b[0m\n\u001b[1;32m      8\u001b[0m     \"\"\"\n\u001b[1;32m      9\u001b[0m     \u001b[0msamples_mh\u001b[0m \u001b[0;34m=\u001b[0m \u001b[0;34m[\u001b[0m\u001b[0mtheta\u001b[0m\u001b[0;34m[\u001b[0m\u001b[0mj\u001b[0m\u001b[0;34m]\u001b[0m\u001b[0;34m]\u001b[0m \u001b[0;31m# start sample.\u001b[0m\u001b[0;34m\u001b[0m\u001b[0m\n\u001b[0;32m---> 10\u001b[0;31m     \u001b[0mlk_old\u001b[0m \u001b[0;34m=\u001b[0m \u001b[0mval_loglhood\u001b[0m\u001b[0;34m(\u001b[0m\u001b[0mtheta\u001b[0m\u001b[0;34m,\u001b[0m \u001b[0mY0\u001b[0m\u001b[0;34m,\u001b[0m \u001b[0mX\u001b[0m\u001b[0;34m,\u001b[0m \u001b[0mdebug\u001b[0m\u001b[0;34m)\u001b[0m\u001b[0;34m\u001b[0m\u001b[0m\n\u001b[0m\u001b[1;32m     11\u001b[0m     \u001b[0;31m#print('Old LK: {}'.format(lk_old))\u001b[0m\u001b[0;34m\u001b[0m\u001b[0;34m\u001b[0m\u001b[0m\n\u001b[1;32m     12\u001b[0m     \u001b[0;32mfor\u001b[0m \u001b[0mt\u001b[0m \u001b[0;32min\u001b[0m \u001b[0mrange\u001b[0m\u001b[0;34m(\u001b[0m\u001b[0miters\u001b[0m\u001b[0;34m)\u001b[0m\u001b[0;34m:\u001b[0m\u001b[0;34m\u001b[0m\u001b[0m\n",
      "\u001b[0;32m~/Documents/repos/TAIM/utils.py\u001b[0m in \u001b[0;36mval_loglhood\u001b[0;34m(theta, Y0, X, flag_print)\u001b[0m\n\u001b[1;32m    120\u001b[0m             \u001b[0mprint\u001b[0m\u001b[0;34m(\u001b[0m\u001b[0meig_val_A\u001b[0m\u001b[0;34m)\u001b[0m\u001b[0;34m\u001b[0m\u001b[0m\n\u001b[1;32m    121\u001b[0m     \u001b[0;32melse\u001b[0m\u001b[0;34m:\u001b[0m \u001b[0;31m#Parametros matrices A,CovU validos\u001b[0m\u001b[0;34m\u001b[0m\u001b[0m\n\u001b[0;32m--> 122\u001b[0;31m         \u001b[0mval\u001b[0m \u001b[0;34m=\u001b[0m \u001b[0mloglhood\u001b[0m\u001b[0;34m(\u001b[0m\u001b[0mCovU\u001b[0m\u001b[0;34m,\u001b[0m\u001b[0mY0\u001b[0m\u001b[0;34m,\u001b[0m\u001b[0mA\u001b[0m\u001b[0;34m,\u001b[0m\u001b[0mX\u001b[0m\u001b[0;34m)\u001b[0m\u001b[0;34m\u001b[0m\u001b[0m\n\u001b[0m\u001b[1;32m    123\u001b[0m         \u001b[0;32mif\u001b[0m\u001b[0;34m(\u001b[0m\u001b[0mflag_print\u001b[0m\u001b[0;34m)\u001b[0m\u001b[0;34m:\u001b[0m \u001b[0;31m#se muestran matrices A, CovU construidas\u001b[0m\u001b[0;34m\u001b[0m\u001b[0m\n\u001b[1;32m    124\u001b[0m             \u001b[0mprint\u001b[0m\u001b[0;34m(\u001b[0m\u001b[0;34m\"Matriz A resulante:\"\u001b[0m\u001b[0;34m)\u001b[0m\u001b[0;34m\u001b[0m\u001b[0m\n",
      "\u001b[0;32m~/Documents/repos/TAIM/utils.py\u001b[0m in \u001b[0;36mloglhood\u001b[0;34m(CovU, Y0, A, X)\u001b[0m\n\u001b[1;32m     64\u001b[0m     \u001b[0;31m#T = Y0.shape[1]\u001b[0m\u001b[0;34m\u001b[0m\u001b[0;34m\u001b[0m\u001b[0m\n\u001b[1;32m     65\u001b[0m \u001b[0;34m\u001b[0m\u001b[0m\n\u001b[0;32m---> 66\u001b[0;31m     \u001b[0mtrace_mat\u001b[0m \u001b[0;34m=\u001b[0m \u001b[0mnp\u001b[0m\u001b[0;34m.\u001b[0m\u001b[0mtranspose\u001b[0m\u001b[0;34m(\u001b[0m\u001b[0mY0\u001b[0m \u001b[0;34m-\u001b[0m \u001b[0mA\u001b[0m\u001b[0;34m@\u001b[0m\u001b[0mX\u001b[0m\u001b[0;34m)\u001b[0m \u001b[0;34m@\u001b[0m \u001b[0mnp\u001b[0m\u001b[0;34m.\u001b[0m\u001b[0mlinalg\u001b[0m\u001b[0;34m.\u001b[0m\u001b[0minv\u001b[0m\u001b[0;34m(\u001b[0m\u001b[0mCovU\u001b[0m\u001b[0;34m)\u001b[0m \u001b[0;34m@\u001b[0m \u001b[0;34m(\u001b[0m\u001b[0mY0\u001b[0m \u001b[0;34m-\u001b[0m \u001b[0mA\u001b[0m\u001b[0;34m@\u001b[0m\u001b[0mX\u001b[0m\u001b[0;34m)\u001b[0m\u001b[0;34m\u001b[0m\u001b[0m\n\u001b[0m\u001b[1;32m     67\u001b[0m     \u001b[0mout\u001b[0m \u001b[0;34m=\u001b[0m \u001b[0;34m-\u001b[0m\u001b[0;34m(\u001b[0m\u001b[0mY0\u001b[0m\u001b[0;34m.\u001b[0m\u001b[0mshape\u001b[0m\u001b[0;34m[\u001b[0m\u001b[0;36m1\u001b[0m\u001b[0;34m]\u001b[0m\u001b[0;34m/\u001b[0m\u001b[0;36m2\u001b[0m\u001b[0;34m)\u001b[0m\u001b[0;34m*\u001b[0m\u001b[0mnp\u001b[0m\u001b[0;34m.\u001b[0m\u001b[0mlog\u001b[0m\u001b[0;34m(\u001b[0m\u001b[0mnp\u001b[0m\u001b[0;34m.\u001b[0m\u001b[0mlinalg\u001b[0m\u001b[0;34m.\u001b[0m\u001b[0mdet\u001b[0m\u001b[0;34m(\u001b[0m\u001b[0mCovU\u001b[0m\u001b[0;34m)\u001b[0m\u001b[0;34m)\u001b[0m \u001b[0;34m-\u001b[0m\u001b[0;36m1\u001b[0m\u001b[0;34m/\u001b[0m\u001b[0;36m2\u001b[0m\u001b[0;34m*\u001b[0m\u001b[0mnp\u001b[0m\u001b[0;34m.\u001b[0m\u001b[0mtrace\u001b[0m\u001b[0;34m(\u001b[0m\u001b[0mtrace_mat\u001b[0m\u001b[0;34m)\u001b[0m\u001b[0;34m\u001b[0m\u001b[0m\n\u001b[1;32m     68\u001b[0m     \u001b[0;32mreturn\u001b[0m \u001b[0mout\u001b[0m\u001b[0;34m\u001b[0m\u001b[0m\n",
      "\u001b[0;31mKeyboardInterrupt\u001b[0m: "
     ]
    }
   ],
   "source": [
    "samples = gibbs_sampling(iters, DATA_PATH, K, p, q, mh_iters=mh_iters, n_rows=n_rows, debug=debug)"
   ]
  },
  {
   "cell_type": "code",
   "execution_count": null,
   "metadata": {},
   "outputs": [],
   "source": [
    "samples"
   ]
  },
  {
   "cell_type": "code",
   "execution_count": null,
   "metadata": {},
   "outputs": [],
   "source": [
    "np.random.choice(np.array([1, 2, 3, 4]))"
   ]
  },
  {
   "cell_type": "code",
   "execution_count": null,
   "metadata": {},
   "outputs": [],
   "source": []
  }
 ],
 "metadata": {
  "kernelspec": {
   "display_name": "Python 3",
   "language": "python",
   "name": "python3"
  },
  "language_info": {
   "codemirror_mode": {
    "name": "ipython",
    "version": 3
   },
   "file_extension": ".py",
   "mimetype": "text/x-python",
   "name": "python",
   "nbconvert_exporter": "python",
   "pygments_lexer": "ipython3",
   "version": "3.6.5"
  }
 },
 "nbformat": 4,
 "nbformat_minor": 2
}
