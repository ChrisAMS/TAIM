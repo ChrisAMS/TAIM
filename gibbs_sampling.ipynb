{
 "cells": [
  {
   "cell_type": "code",
   "execution_count": 1,
   "metadata": {},
   "outputs": [],
   "source": [
    "import pandas as pd\n",
    "import numpy as np\n",
    "import os\n",
    "import scipy.stats as stats\n",
    "from utils import load_data, val_loglhood, loglhood"
   ]
  },
  {
   "cell_type": "markdown",
   "metadata": {},
   "source": [
    "# Gibbs Sampling"
   ]
  },
  {
   "cell_type": "code",
   "execution_count": 13,
   "metadata": {},
   "outputs": [],
   "source": [
    "def gibbs_sampling(iters, data_path, K, p, q, n_rows=None, debug=False):\n",
    "    \"\"\"\n",
    "    data_path: path where data is saved.\n",
    "    K: number of plants (n_plants in load_data function).\n",
    "    p: time interval to consider.\n",
    "    q: sample distribution for parameters.\n",
    "    \"\"\"\n",
    "    if debug:\n",
    "        print('Loading data...')\n",
    "    Y0, X = load_data(data_path, K, p, resample_rule='10T', n_rows=n_rows)\n",
    "    if debug:\n",
    "        print('Y0 shape: {}'.format(Y0.shape))\n",
    "        print('X shape: {}'.format(X.shape))\n",
    "    theta = init_parameters(K, p, q, Y0, X, debug)\n",
    "    if debug:\n",
    "        print('Parameters intialized!')\n",
    "    samples = []\n",
    "    for i in range(iters):\n",
    "        if debug:\n",
    "            print('Iteration {}'.format(i))\n",
    "        for j in range(theta.shape[0]):\n",
    "            while True:\n",
    "                theta[j] = q.rvs()\n",
    "                lk = val_loglhood(theta, Y0, X, False)\n",
    "                if lk != -np.inf:\n",
    "                    break\n",
    "        A    = np.reshape(theta[:p*K**2],(K*p,K)).swapaxes(0,1)\n",
    "        CovU = np.reshape(theta[p*K**2:],(K,K)).swapaxes(0,1)\n",
    "        samples.append([A, CovU])\n",
    "    print('Finished!')\n",
    "    return samples\n",
    "        \n",
    "    \n",
    "def init_parameters(K, p, q, Y0, X, debug=False):\n",
    "    if debug:\n",
    "        print('Initializing parameters...')\n",
    "    while True:\n",
    "        theta = np.zeros(K ** 2 * (p + 1))\n",
    "        for i in range(theta.shape[0]):\n",
    "            theta[i] = q.rvs()\n",
    "\n",
    "        # Force CovU to be positive semidefinite.\n",
    "        covu = np.reshape(theta[-K**2:], (K, K)).T\n",
    "        covu = np.dot(covu.T, covu)\n",
    "        theta[-K**2:] = np.reshape(covu, K**2)\n",
    "        \n",
    "        lk = val_loglhood(theta, Y0, X, False)\n",
    "        print('LK = {}'.format(lk))\n",
    "        if lk != -np.inf:\n",
    "            return theta\n",
    "        "
   ]
  },
  {
   "cell_type": "code",
   "execution_count": 14,
   "metadata": {},
   "outputs": [],
   "source": [
    "DATA_PATH = '/home/chrisams/Documents/datasets/data_TAIM/processed/'\n",
    "q = stats.norm(loc=0, scale=1)\n",
    "K = 3\n",
    "p = 1\n",
    "iters = 2\n",
    "debug = True\n",
    "n_rows = 10000 # Number of rows of the data to load"
   ]
  },
  {
   "cell_type": "code",
   "execution_count": 15,
   "metadata": {},
   "outputs": [
    {
     "name": "stdout",
     "output_type": "stream",
     "text": [
      "Loading data...\n",
      "File \"plant_1\" loaded!\n",
      "Original shape: (398284, 1)\n",
      "nans: 0\n",
      "Resample data shape: (398660,)\n",
      "Final shape: (10000,)\n",
      "File \"plant_3\" loaded!\n",
      "Original shape: (398289, 1)\n",
      "nans: 0\n",
      "Resample data shape: (398660,)\n",
      "Final shape: (10000,)\n",
      "File \"plant_6\" loaded!\n",
      "Original shape: (398382, 1)\n",
      "nans: 0\n",
      "Resample data shape: (398660,)\n",
      "Final shape: (10000,)\n",
      "Y0 shape: (3, 9999)\n",
      "X shape: (3, 9999)\n",
      "Initializing parameters...\n",
      "LK = -inf\n",
      "LK = -inf\n",
      "LK = -inf\n",
      "LK = -inf\n",
      "LK = -inf\n",
      "LK = -inf\n",
      "LK = -257371.3736437603\n",
      "Parameters intialized!\n",
      "Iteration 0\n",
      "Iteration 1\n",
      "Finished!\n"
     ]
    }
   ],
   "source": [
    "samples = gibbs_sampling(iters, DATA_PATH, K, p, q, n_rows=n_rows, debug=debug)"
   ]
  },
  {
   "cell_type": "code",
   "execution_count": 9,
   "metadata": {},
   "outputs": [
    {
     "data": {
      "text/plain": [
       "array([[ 1.56149264, -0.63873975,  1.03785602,  1.52149532,  0.55808924,\n",
       "        -0.61124928, -0.54369528,  0.6056211 , -0.94443797,  1.61410949,\n",
       "        -1.28113447, -0.70382613,  0.46911877,  1.09661939,  0.11317673,\n",
       "        -0.85330189,  0.06409345,  1.04866525],\n",
       "       [ 1.56149264, -0.63873975,  1.03785602,  1.52149532,  0.55808924,\n",
       "        -0.61124928, -0.54369528,  0.6056211 , -0.94443797,  1.61410949,\n",
       "        -1.28113447, -0.70382613,  0.46911877,  1.09661939,  0.11317673,\n",
       "        -0.85330189,  0.06409345,  1.04866525]])"
      ]
     },
     "execution_count": 9,
     "metadata": {},
     "output_type": "execute_result"
    }
   ],
   "source": [
    "samples"
   ]
  },
  {
   "cell_type": "code",
   "execution_count": null,
   "metadata": {},
   "outputs": [],
   "source": []
  }
 ],
 "metadata": {
  "kernelspec": {
   "display_name": "Python 3",
   "language": "python",
   "name": "python3"
  },
  "language_info": {
   "codemirror_mode": {
    "name": "ipython",
    "version": 3
   },
   "file_extension": ".py",
   "mimetype": "text/x-python",
   "name": "python",
   "nbconvert_exporter": "python",
   "pygments_lexer": "ipython3",
   "version": "3.6.5"
  }
 },
 "nbformat": 4,
 "nbformat_minor": 2
}
