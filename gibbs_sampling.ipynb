{
 "cells": [
  {
   "cell_type": "code",
   "execution_count": null,
   "metadata": {},
   "outputs": [],
   "source": [
    "import pandas as pd\n",
    "import numpy as np\n",
    "import os\n",
    "import scipy.stats as stats\n",
    "from utils import load_data, val_loglhood"
   ]
  },
  {
   "cell_type": "markdown",
   "metadata": {},
   "source": [
    "# Gibbs Sampling"
   ]
  },
  {
   "cell_type": "code",
   "execution_count": null,
   "metadata": {},
   "outputs": [],
   "source": [
    "def gibbs_sampling(iters, data_path, K, p, q, debug=False):\n",
    "    \"\"\"\n",
    "    data_path: path where data is saved.\n",
    "    K: number of plants (n_plants in load_data function).\n",
    "    p: time interval to consider.\n",
    "    q: sample distribution for parameters.\n",
    "    \"\"\"\n",
    "    if debug:\n",
    "        print('Loading data...')\n",
    "    Y0, X = load_data(data_path, K, p, resample_rule='4H')\n",
    "    if debug:\n",
    "        print('Y0 shape: {}'.format(Y0.shape))\n",
    "        print('X shape: {}'.format(X.shape))\n",
    "    theta = init_parameters(K, p, q, Y0, X, debug)\n",
    "    if debug:\n",
    "        print('Parameters intialized!')\n",
    "    samples = []\n",
    "    for i in range(iters):\n",
    "        if debug:\n",
    "            print('Iteration {}'.format(i))\n",
    "        for j in theta.shape[0]:\n",
    "            while True:\n",
    "                theta_j = q.rvs()\n",
    "                lk = val_loglhood(theta, Y0, X, True)\n",
    "                if lk != -np.inf:\n",
    "                    break\n",
    "        samples.append(theta)\n",
    "    return np.array(samples)\n",
    "        \n",
    "    \n",
    "def init_parameters(K, p, q, Y0, X, debug=False):\n",
    "    if debug:\n",
    "        print('Initializing parameters...')\n",
    "    while True:\n",
    "        theta = np.zeros(K ** 2 * (p + 1))\n",
    "        for i in range(theta.shape[0]):\n",
    "            theta[i] = q.rvs()\n",
    "\n",
    "        # Force CovU to be positive semidefinite.\n",
    "        covu = np.reshape(theta[-K**2:], (K, K)).T\n",
    "        covu = np.dot(covu.T, covu)\n",
    "        theta[-K**2:] = np.reshape(covu, K**2)\n",
    "        \n",
    "        lk = val_loglhood(theta, Y0, X, True)\n",
    "        print('LK = {}'.format(lk))\n",
    "        if lk != -np.inf:\n",
    "            return theta\n",
    "        "
   ]
  },
  {
   "cell_type": "code",
   "execution_count": null,
   "metadata": {},
   "outputs": [],
   "source": [
    "a = np.arange(20)\n",
    "print(a)\n",
    "b = a[-3 ** 2:]\n",
    "print(b)\n",
    "c = np.reshape(b, (3, 3)).T\n",
    "print(c)\n",
    "print(np.dot(c.T, c))\n",
    "d = np.reshape(b, 3 ** 2)\n",
    "print(d)"
   ]
  },
  {
   "cell_type": "code",
   "execution_count": null,
   "metadata": {},
   "outputs": [],
   "source": [
    "DATA_PATH = '/home/chrisams/Documents/data_TAIM/processed/'\n",
    "q = stats.norm(loc=0, scale=1)\n",
    "K = 2\n",
    "p = 2\n",
    "iters = 5\n",
    "debug = True"
   ]
  },
  {
   "cell_type": "code",
   "execution_count": null,
   "metadata": {},
   "outputs": [],
   "source": [
    "gibbs_sampling(iters, DATA_PATH, K, p, q, debug)"
   ]
  },
  {
   "cell_type": "code",
   "execution_count": null,
   "metadata": {},
   "outputs": [],
   "source": []
  }
 ],
 "metadata": {
  "kernelspec": {
   "display_name": "Python 3",
   "language": "python",
   "name": "python3"
  },
  "language_info": {
   "codemirror_mode": {
    "name": "ipython",
    "version": 3
   },
   "file_extension": ".py",
   "mimetype": "text/x-python",
   "name": "python",
   "nbconvert_exporter": "python",
   "pygments_lexer": "ipython3",
   "version": "3.6.5"
  }
 },
 "nbformat": 4,
 "nbformat_minor": 2
}
