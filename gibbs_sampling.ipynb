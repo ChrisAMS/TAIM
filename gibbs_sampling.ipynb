{
 "cells": [
  {
   "cell_type": "code",
   "execution_count": 31,
   "metadata": {},
   "outputs": [],
   "source": [
    "import pandas as pd\n",
    "import numpy as np\n",
    "import os"
   ]
  },
  {
   "cell_type": "code",
   "execution_count": 32,
   "metadata": {},
   "outputs": [],
   "source": [
    "DATA_PATH = '/home/chrisams/Documents/data_TAIM/processed/'"
   ]
  },
  {
   "cell_type": "markdown",
   "metadata": {},
   "source": [
    "# Function for data loading"
   ]
  },
  {
   "cell_type": "code",
   "execution_count": 36,
   "metadata": {},
   "outputs": [],
   "source": [
    "def load_data(data_path, n_plants, resample_rule=None):\n",
    "    \"\"\"\n",
    "    data_path: directory where the data is saved.\n",
    "    n_plants: number of plants to load.\n",
    "    resample: resample rule for data aggregation.\n",
    "    \"\"\"\n",
    "    data = [None] * n_plants\n",
    "    for path, _, file_names in os.walk(DATA_PATH):\n",
    "        for i, file_name in enumerate(file_names):\n",
    "            if i + 1 > n_plants:\n",
    "                break\n",
    "            data[i] = pd.read_csv(os.path.join(data_path, 'plant_{}'.format(i)),\\\n",
    "                                  index_col=0, names=['85m_speed'], parse_dates=True)\n",
    "            if resample_rule:\n",
    "                data[i] = data[i].resample(resample_rule).mean()\n",
    "\n",
    "            data[i] = data[i]['85m_speed'].values\n",
    "\n",
    "    data = np.stack(data, axis=1)\n",
    "    return data"
   ]
  },
  {
   "cell_type": "markdown",
   "metadata": {},
   "source": [
    "# Gibbs Sampling"
   ]
  },
  {
   "cell_type": "code",
   "execution_count": null,
   "metadata": {},
   "outputs": [],
   "source": []
  }
 ],
 "metadata": {
  "kernelspec": {
   "display_name": "Python 3",
   "language": "python",
   "name": "python3"
  },
  "language_info": {
   "codemirror_mode": {
    "name": "ipython",
    "version": 3
   },
   "file_extension": ".py",
   "mimetype": "text/x-python",
   "name": "python",
   "nbconvert_exporter": "python",
   "pygments_lexer": "ipython3",
   "version": "3.6.5"
  }
 },
 "nbformat": 4,
 "nbformat_minor": 2
}
