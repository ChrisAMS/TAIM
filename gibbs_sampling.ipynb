{
 "cells": [
  {
   "cell_type": "code",
   "execution_count": 3,
   "metadata": {},
   "outputs": [],
   "source": [
    "import pandas as pd\n",
    "import numpy as np\n",
    "import os\n",
    "import scipy.stats as stats\n",
    "from utils import load_data, val_loglhood, loglhood"
   ]
  },
  {
   "cell_type": "markdown",
   "metadata": {},
   "source": [
    "# Gibbs Sampling"
   ]
  },
  {
   "cell_type": "code",
   "execution_count": null,
   "metadata": {},
   "outputs": [],
   "source": [
    "def gibbs_sampling(iters, data_path, K, p, q, debug=False):\n",
    "    \"\"\"\n",
    "    data_path: path where data is saved.\n",
    "    K: number of plants (n_plants in load_data function).\n",
    "    p: time interval to consider.\n",
    "    q: sample distribution for parameters.\n",
    "    \"\"\"\n",
    "    if debug:\n",
    "        print('Loading data...')\n",
    "    Y0, X = load_data(data_path, K, p, resample_rule='20H')\n",
    "    if debug:\n",
    "        print('Y0 shape: {}'.format(Y0.shape))\n",
    "        print('X shape: {}'.format(X.shape))\n",
    "    theta = init_parameters(K, p, q, Y0, X, debug)\n",
    "    if debug:\n",
    "        print('Parameters intialized!')\n",
    "    samples = []\n",
    "    for i in range(iters):\n",
    "        if debug:\n",
    "            print('Iteration {}'.format(i))\n",
    "        for j in theta.shape[0]:\n",
    "            while True:\n",
    "                theta_j = q.rvs()\n",
    "                lk = val_loglhood(theta, Y0, X, True)\n",
    "                if lk != -np.inf:\n",
    "                    break\n",
    "        samples.append(theta)\n",
    "    return np.array(samples)\n",
    "        \n",
    "    \n",
    "def init_parameters(K, p, q, Y0, X, debug=False):\n",
    "    if debug:\n",
    "        print('Initializing parameters...')\n",
    "    while True:\n",
    "        theta = np.zeros(K ** 2 * (p + 1))\n",
    "        for i in range(theta.shape[0]):\n",
    "            theta[i] = q.rvs()\n",
    "\n",
    "        # Force CovU to be positive semidefinite.\n",
    "        covu = np.reshape(theta[-K**2:], (K, K)).T\n",
    "        covu = np.dot(covu.T, covu)\n",
    "        theta[-K**2:] = np.reshape(covu, K**2)\n",
    "        \n",
    "        lk = val_loglhood(theta, Y0, X, True)\n",
    "        print('LK = {}'.format(lk))\n",
    "        if lk != -np.inf:\n",
    "            return theta\n",
    "        "
   ]
  },
  {
   "cell_type": "code",
   "execution_count": null,
   "metadata": {},
   "outputs": [],
   "source": [
    "a = np.arange(20)\n",
    "print(a)\n",
    "b = a[-3 ** 2:]\n",
    "print(b)\n",
    "c = np.reshape(b, (3, 3)).T\n",
    "print(c)\n",
    "print(np.dot(c.T, c))\n",
    "d = np.reshape(b, 3 ** 2)\n",
    "print(d)"
   ]
  },
  {
   "cell_type": "code",
   "execution_count": 5,
   "metadata": {},
   "outputs": [],
   "source": [
    "DATA_PATH = '/home/chrisams/Documents/datasets/data_TAIM/processed/'\n",
    "q = stats.norm(loc=0, scale=1)\n",
    "K = 2\n",
    "p = 1\n",
    "iters = 5\n",
    "debug = True"
   ]
  },
  {
   "cell_type": "code",
   "execution_count": null,
   "metadata": {},
   "outputs": [],
   "source": [
    "gibbs_sampling(iters, DATA_PATH, K, p, q, debug)"
   ]
  },
  {
   "cell_type": "code",
   "execution_count": 6,
   "metadata": {},
   "outputs": [
    {
     "name": "stdout",
     "output_type": "stream",
     "text": [
      "(2, 16611)\n"
     ]
    }
   ],
   "source": [
    "covu = np.array([[1.37384213, -2.91849886], [-2.91849886, 6.22740396]])\n",
    "A = np.array([[-1.11480087, -1.14222902], [0.36701172, 0.57859253]])\n",
    "Y0, X = load_data(DATA_PATH, K, p, resample_rule='4H')"
   ]
  },
  {
   "cell_type": "code",
   "execution_count": 7,
   "metadata": {},
   "outputs": [
    {
     "data": {
      "text/plain": [
       "nan"
      ]
     },
     "execution_count": 7,
     "metadata": {},
     "output_type": "execute_result"
    }
   ],
   "source": [
    "loglhood(covu, Y0, A, X)"
   ]
  },
  {
   "cell_type": "code",
   "execution_count": 8,
   "metadata": {},
   "outputs": [
    {
     "name": "stdout",
     "output_type": "stream",
     "text": [
      "[[  166.02291698    36.75488817   472.44638924 ...  -241.18389599\n",
      "   -492.48821635  -409.88683039]\n",
      " [   36.75488817     8.47677686   104.95995004 ...   -53.66666186\n",
      "   -109.18224222   -90.90043592]\n",
      " [  472.44638924   104.95995004  1344.82421043 ...  -686.62434065\n",
      "  -1401.62437611 -1166.57336458]\n",
      " ...\n",
      " [ -241.18389599   -53.66666186  -686.62434065 ...   350.58954201\n",
      "    715.56738403   595.57504406]\n",
      " [ -492.48821635  -109.18224222 -1401.62437611 ...   715.56738403\n",
      "   1460.9795301   1215.95404158]\n",
      " [ -409.88683039   -90.90043592 -1166.57336458 ...   595.57504406\n",
      "   1215.95404158  1012.02529197]]\n",
      "(16610, 16610)\n"
     ]
    }
   ],
   "source": [
    "trace_mat = np.transpose(Y0 - A@X) @ np.linalg.inv(covu) @ (Y0 - A@X)\n",
    "print(trace_mat)\n",
    "print(trace_mat.shape)"
   ]
  },
  {
   "cell_type": "code",
   "execution_count": null,
   "metadata": {},
   "outputs": [],
   "source": [
    "out = -(Y0.shape[1]/2)*np.log(np.linalg.det(covu)) -1/2*np.trace(trace_mat) \n",
    "print(out)"
   ]
  },
  {
   "cell_type": "code",
   "execution_count": null,
   "metadata": {},
   "outputs": [],
   "source": [
    "np.log(np.linalg.det(covu))"
   ]
  },
  {
   "cell_type": "code",
   "execution_count": 9,
   "metadata": {},
   "outputs": [
    {
     "data": {
      "text/plain": [
       "nan"
      ]
     },
     "execution_count": 9,
     "metadata": {},
     "output_type": "execute_result"
    }
   ],
   "source": [
    "sum(np.diag(trace_mat))"
   ]
  },
  {
   "cell_type": "code",
   "execution_count": 28,
   "metadata": {},
   "outputs": [],
   "source": [
    "def how_many_nans(L):\n",
    "    L = L.reshape(L.shape[0] * L.shape[1])\n",
    "    c = 0\n",
    "    for i in L:\n",
    "        if np.isnan(i):\n",
    "            c+=1\n",
    "    print(c)"
   ]
  },
  {
   "cell_type": "code",
   "execution_count": 29,
   "metadata": {},
   "outputs": [
    {
     "name": "stdout",
     "output_type": "stream",
     "text": [
      "1330\n"
     ]
    }
   ],
   "source": [
    "print(c)"
   ]
  },
  {
   "cell_type": "code",
   "execution_count": 30,
   "metadata": {},
   "outputs": [
    {
     "data": {
      "text/plain": [
       "(16610,)"
      ]
     },
     "execution_count": 30,
     "metadata": {},
     "output_type": "execute_result"
    }
   ],
   "source": [
    "np.diag(trace_mat).shape"
   ]
  },
  {
   "cell_type": "code",
   "execution_count": 32,
   "metadata": {},
   "outputs": [
    {
     "name": "stdout",
     "output_type": "stream",
     "text": [
      "1325\n"
     ]
    }
   ],
   "source": [
    "how_many_nans(X)"
   ]
  },
  {
   "cell_type": "code",
   "execution_count": null,
   "metadata": {},
   "outputs": [],
   "source": []
  }
 ],
 "metadata": {
  "kernelspec": {
   "display_name": "Python 3",
   "language": "python",
   "name": "python3"
  },
  "language_info": {
   "codemirror_mode": {
    "name": "ipython",
    "version": 3
   },
   "file_extension": ".py",
   "mimetype": "text/x-python",
   "name": "python",
   "nbconvert_exporter": "python",
   "pygments_lexer": "ipython3",
   "version": "3.6.5"
  }
 },
 "nbformat": 4,
 "nbformat_minor": 2
}
