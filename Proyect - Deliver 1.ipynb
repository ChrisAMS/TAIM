{
 "cells": [
  {
   "cell_type": "markdown",
   "metadata": {},
   "source": [
    "# Sampleo de parámetros el modelo VAR\n",
    "\n",
    "La finalidad del primer sampleo es encontrar los parámetros para el modelo Periódico Vectorial Autoregresivo. Si consideramos una serie de tiempo de dimensión $K$, $y_{1},..., y_{T}$ en donde $y_{t}=(y_{1t}, ..., y_{Kt})$ es un vector de dimensión $K$, entonces el modelo VAR$(p)$ queda definido por:\n",
    "\n",
    "$$y_{t}=\\upsilon + A_{1}y_{t-1}+...+A_{p}y_{t-p}+u_{t}$$\n",
    "\n",
    "En donde $\\upsilon=(\\upsilon_{1},...,\\upsilon_{K})$ es el vector de interceptos ($K\\times1$), $A_{i}$ son los coeficientes matriciales ($K\\times K$) y finalmente $u_{t}$ es un ruido blanco no-singular de covarianza $\\Sigma_{u}$, la cual es de dimensión ($K\\times K$). En este caso, asumimos el ruido blanco como una normal multivariada de $K$ dimensiones.\n",
    "\n",
    "Específicamente, se utilizó Gibbs Sampling considerando las distribuciones de probabilidad dadas por:\n",
    "\n",
    "$$p(A_{ijk}|A_{-i-j-k}, \\Sigma_{u}, D), \\forall i,j,k. 1\\leq i \\leq p \\wedge 1\\leq j, k \\leq K$$\n",
    "\n",
    "para la matriz $A=(A_{1}, ..., A_{p})$ y:\n",
    "\n",
    "$$p({\\Sigma_{u}}_{ij}|A, {\\Sigma_{u}}_{-i-j}, D), \\forall i,j. 1 \\leq i, j \\leq K$$\n",
    "\n",
    "Es decir, se fijan todas las entradas de las matrices $A$ o $\\Sigma_{u}$ excepto una, y esta es sampleada según alguna distribución $q$ predefinida. Hasta el momento hemos elegido $q$ ser una normal univariada.\n",
    "\n",
    "Cabe destacar que para cada sampleo univariado se revisa si es que el nuevo parámetro (en conjunto con los anteriores) cumplen con ciertas restricciones. Para la matriz $A$ se debe cumplir que esta sea estable y $\\Sigma_{u}$ debe ser semidefinida positiva (porque se trata de una normal multivariada), por lo tanto, no se acepta el sampleo de un nuevo parámetro hasta que se cumplen estas condiciones.\n",
    "\n",
    "En la implementación definimos una variable $\\theta$ que contiene todos los parámetros correspondientes a las matrices $A$ y $\\Sigma_{u}$ en un vector. De esta manera pudimos ir iterando por cada parámetro para ir sampleándolos de manera más simple. "
   ]
  },
  {
   "cell_type": "code",
   "execution_count": null,
   "metadata": {},
   "outputs": [],
   "source": [
    "import utils as ut\n",
    "import pickle\n",
    "import scipy.stats as stats\n",
    "\n",
    "DATA_PATH = '/home/chrisams/Documents/datasets/data_TAIM/processed/'\n",
    "STATS_PATH = '/home/chrisams/Documents/datasets/data_TAIM/stats.pickle'\n",
    "#DATA_PATH = 'C:/Users/Samuel/Desktop/2018_01/IIC 3695 Intel Maquina/Tareas y Proyecto/Proyecto/Code/TAIM/data'\n",
    "q = stats.norm(loc=0, scale=1)\n",
    "K = 3\n",
    "p = 1\n",
    "iters = 2\n",
    "debug = False\n",
    "n_rows = 10000 # Number of rows of the data to load\n",
    "\n",
    "samples = ut.gibbs_sampling(iters, DATA_PATH, K, p, q, n_rows=n_rows, debug=debug)"
   ]
  },
  {
   "cell_type": "code",
   "execution_count": null,
   "metadata": {},
   "outputs": [],
   "source": [
    "print(samples[0][0])\n",
    "print(samples[0][1])"
   ]
  },
  {
   "cell_type": "markdown",
   "metadata": {},
   "source": [
    "# Sampleo de velocidades desde el modelo VAR\n",
    "\n",
    "Un segundo sampleo se hace con la función $\\texttt{sim_wind}$. Esta función toma una de las muestras de los coeficientes $A$ y de la matriz $\\Sigma_{u}$ obtenida en el proceso anterior y, para cada tiempo $t$ que se quiere predecir (definido en la variable $\\texttt{horizon}$) genera velocidades eólicas sampleando desde el ruido blanco cuya matriz de covarianza corresponde a $\\Sigma_{u}$. De esta forma, para cada tiempo $t$ se obtiene una distribución de las velocidades en ese instante.\n",
    "\n",
    "Un ejemplo de esto se puede ver más abajo en los gráficos. Se eligieron los primeros parámetros sampleados por el método anterior y muestrearon 10 velocidades para cada tiempo $t$ que se quería predecir (por temas de visualización). "
   ]
  },
  {
   "cell_type": "code",
   "execution_count": null,
   "metadata": {},
   "outputs": [],
   "source": [
    "import numpy as np\n",
    "x0 = np.transpose(np.matrix([[0.3,0.4,0.7]]))\n",
    "A = samples[0][0]\n",
    "CovU = samples[0][1]\n",
    "\n",
    "print(CovU)\n",
    "eigval = np.linalg.eigvals(CovU)\n",
    "print(eigval)\n",
    "#print(np.all(np.isreal(eigval)))\n",
    "\n",
    "horizon = 50\n",
    "n_samples = 10\n",
    "time_series = ut.sim_wind(A,CovU,x0,horizon,n_samples)\n",
    "\n",
    "# Adjust time series with their true mean and std.\n",
    "with open(STATS_PATH, 'rb') as fp:\n",
    "    stats_dict = pickle.load(fp)\n",
    "\n",
    "for i in range(K):\n",
    "    mean = stats_dict['plant_{}'.format(i)]['mean']\n",
    "    std = stats_dict['plant_{}'.format(i)]['std']\n",
    "    time_series[i] = time_series[i] * std + mean\n",
    "\n",
    "#Grafica series de tiempos resultantes\n",
    "ut.plot_series(time_series)\n"
   ]
  },
  {
   "cell_type": "code",
   "execution_count": null,
   "metadata": {},
   "outputs": [],
   "source": []
  }
 ],
 "metadata": {
  "kernelspec": {
   "display_name": "Python 3",
   "language": "python",
   "name": "python3"
  },
  "language_info": {
   "codemirror_mode": {
    "name": "ipython",
    "version": 3
   },
   "file_extension": ".py",
   "mimetype": "text/x-python",
   "name": "python",
   "nbconvert_exporter": "python",
   "pygments_lexer": "ipython3",
   "version": "3.6.5"
  }
 },
 "nbformat": 4,
 "nbformat_minor": 2
}
