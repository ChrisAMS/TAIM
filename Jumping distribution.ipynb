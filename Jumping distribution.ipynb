{
 "cells": [
  {
   "cell_type": "code",
   "execution_count": 1,
   "metadata": {},
   "outputs": [],
   "source": [
    "from scipy.stats import uniform\n",
    "from scipy.stats import norm\n",
    "from scipy.stats import truncnorm\n",
    "import numpy as np\n",
    "\n",
    "#DISCLAIMER: CODED FOR VAR OF ORDER 1\n",
    "\n",
    "## Jumping distribution of theta, conditioned on all values except index j\n",
    "def jump_dst(theta_old,j,user_std,K):\n",
    "    #theta_old: previous value of vector theta\n",
    "    #j: index for which dist is unconditioned\n",
    "    #user_std: size of step of jumping distribution\n",
    "    \n",
    "    dt = 0.0001 #avoid exactly taking limits of bounds\n",
    "\n",
    "    mu = theta_old[j]\n",
    "    if (j < (K*K*2)):\n",
    "        rv = norm(loc=mu,scale=user_std)\n",
    "    elif ( (j >= (K*K*2)) and (j < (K*K*2+K)) ):\n",
    "        a, b = (-1+dt - mu) / user_std, (1-dt - mu) / user_std\n",
    "        rv = truncnorm(a=a,b=b,loc=mu,scale=user_std) #bounded between (-1,1)\n",
    "    elif ( (j >= (K*K*2+K)) and (j < (K*K*2+K*2)) ):\n",
    "        a  = (0+dt - mu) / user_std\n",
    "        rv = truncnorm(a=a,b=np.inf,loc=mu,scale=user_std) #bounded between (0,+inf) \n",
    "    else:\n",
    "        print(\"ERROR: index j out of bounds\")\n",
    "\n",
    "    theta = theta_old.copy()\n",
    "    theta[j] = rv.rvs()\n",
    "\n",
    "    samp_vecA = np.reshape(theta[:(K*K)],(K,K))\n",
    "    samp_vecU = np.reshape(theta[(K*K):(K*K*2)],(K,K))\n",
    "    samp_valA = np.diag(theta[(K*K*2):(K*K*2+K)])\n",
    "    samp_valU = np.diag(theta[(K*K*2+K):(K*K*2+K*2)])\n",
    "\n",
    "    A = samp_vecA @ samp_valA @np.linalg.inv(samp_vecA)\n",
    "    U = samp_vecU @ samp_valU @np.linalg.inv(samp_vecU)\n",
    "    \n",
    "    return(A,U,theta)"
   ]
  },
  {
   "cell_type": "code",
   "execution_count": 2,
   "metadata": {},
   "outputs": [],
   "source": [
    "## Previous values\n",
    "\n",
    "#matriz A\n",
    "A_old = np.array([[ 0.19342949,0.06497526,0.20640138],\n",
    " [ 0.71551897,-0.8875307,0.81804304],\n",
    " [ 0.55257784,-0.47167893,0.54647069]])\n",
    "#matriz de vectores propios de A\n",
    "samp_vecA_old = np.array([[-0.61605662,1.60194096,1.54104974],\n",
    " [ 3.0063165,1.95457467,-0.34768391],\n",
    " [ 1.49965918,1.98081968,-1.70410413]])\n",
    "#matriz de valores propios de A\n",
    "samp_valA_old = np.array([[-0.62608599,0.      ,0.        ],\n",
    " [ 0.       ,0.52792554,0.        ],\n",
    " [ 0.       ,0.     ,-0.04947007]])\n",
    "\n",
    "#matriz U\n",
    "U_old = np.array([[ 0.2033993,-0.18571928,0.33787476],\n",
    " [ 0.19604154,-1.15594823,2.57610726],\n",
    " [ 0.10936385,-0.74142332,1.61134019]])\n",
    "#matriz de vectorios de propios U\n",
    "samp_vecU_old = np.array([[ 0.04359329,1.03759474,-1.67779624],\n",
    " [ 0.97607584,0.64018012,1.39118497],\n",
    " [ 0.54931646,0.25065424,0.8522514 ]])\n",
    "#matriz de valores propios U\n",
    "samp_valU_old = np.array([[0.30259028,0.   ,0. ],\n",
    " [0.    ,0.17043456,0.  ],\n",
    " [0.    ,0.     ,0.18576643]])\n",
    "\n",
    "#vector theta que contiene la info\n",
    "theta_old = np.concatenate((samp_vecA_old.reshape(-1),samp_vecU_old.reshape(-1),\n",
    "                            np.diag(samp_valA_old),np.diag(samp_valU_old)))"
   ]
  },
  {
   "cell_type": "code",
   "execution_count": 3,
   "metadata": {},
   "outputs": [
    {
     "name": "stdout",
     "output_type": "stream",
     "text": [
      "[-0.61605662  1.60194096  1.54104974  3.0063165   1.95457467 -0.34768391\n",
      "  1.49965918  1.98081968 -1.70410413  0.04359329  1.03759474 -1.67779624\n",
      "  0.97607584  0.64018012  1.39118497  0.54931646  0.25065424  0.8522514\n",
      " -0.62608599  0.52792554 -0.04947007  0.30259028  0.17043456  0.18576643]\n",
      "[-0.61605662  1.60194096  1.54104974  3.0063165   1.95457467 -0.34768391\n",
      "  1.49965918  1.98081968 -1.70410413  0.04359329  1.03759474 -1.67779624\n",
      "  0.97607584  0.64018012  1.39118497  0.54931646  0.25065424  0.8522514\n",
      " -0.62608599  0.52792554 -0.04947007  0.30259028  0.74761964  0.18576643]\n"
     ]
    }
   ],
   "source": [
    "## User Parameters\n",
    "K =  3 #problem dimension(number of wind farms)\n",
    "j =  22 #index which is left unconditioned of vector theta, j = 1,...,K(K+1)\n",
    "user_std = 1\n",
    "\n",
    "out = jump_dst(theta_old,j,user_std,K)\n",
    "\n",
    "#print(out[0])\n",
    "#print(A_old)\n",
    "#print(out[1])\n",
    "#print(U_old)\n",
    "print(theta_old)\n",
    "print(out[2])"
   ]
  },
  {
   "cell_type": "code",
   "execution_count": null,
   "metadata": {},
   "outputs": [],
   "source": []
  }
 ],
 "metadata": {
  "kernelspec": {
   "display_name": "Python 3",
   "language": "python",
   "name": "python3"
  },
  "language_info": {
   "codemirror_mode": {
    "name": "ipython",
    "version": 3
   },
   "file_extension": ".py",
   "mimetype": "text/x-python",
   "name": "python",
   "nbconvert_exporter": "python",
   "pygments_lexer": "ipython3",
   "version": "3.6.4"
  }
 },
 "nbformat": 4,
 "nbformat_minor": 2
}
