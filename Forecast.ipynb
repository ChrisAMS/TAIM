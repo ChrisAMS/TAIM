{
 "cells": [
  {
   "cell_type": "code",
   "execution_count": 1,
   "metadata": {},
   "outputs": [],
   "source": [
    "import numpy as np\n",
    "import utils as ut\n",
    "import pandas as pd\n",
    "from scipy.optimize import curve_fit\n",
    "import matplotlib.pyplot as plt\n",
    "\n",
    "#function to generate perturbed matrices close to original matrix\n",
    "def pert_matrix(mat_in,scale,n_rnd_param): \n",
    "    #mat_in: squared matrix to be perturbed (N x N)\n",
    "    #scale: added perturbation between [0,scale]\n",
    "    #n_rnd_param: number of perturbed matrix generated\n",
    "    \n",
    "    #dimension of the problem\n",
    "    N = mat_in.shape[0]\n",
    "    \n",
    "    #eigendecomposition\n",
    "    w,v = np.linalg.eig(mat_in)\n",
    "    V   = v\n",
    "    W   = np.diag(w)\n",
    "\n",
    "    #generate perturbed matrices\n",
    "    A_noise = []\n",
    "    for rng in range(n_rnd_param):\n",
    "        V_noise = scale*np.random.rand(N,N) + V\n",
    "        A_noise.append(V_noise @ W @ np.linalg.inv(V_noise))\n",
    "        \n",
    "    return A_noise\n",
    " "
   ]
  },
  {
   "cell_type": "code",
   "execution_count": 2,
   "metadata": {},
   "outputs": [
    {
     "name": "stdout",
     "output_type": "stream",
     "text": [
      "[[2.   0.11 0.09]\n",
      " [0.11 1.5  0.13]\n",
      " [0.09 0.13 1.  ]]\n",
      "[ 0.46457513 -0.06457513  0.5       ]\n",
      "[2.03611991 1.49939394 0.96448615]\n"
     ]
    }
   ],
   "source": [
    "## Input parameters\n",
    "scale = 0.1     #scale for which original is perturbed\n",
    "n_rnd_param = 2 #number of perturbed matrices to generate\n",
    "x0 = np.transpose(np.matrix([[0.3,0.4,0.7]]))  #starting point (value from which forecast are made)\n",
    "horizon = 4    #how many steps-ahead the forecast are made\n",
    "n_samples = 5  #how many forecast/trajectories are generated for EACH sampled VAR parameter\n",
    "\n",
    "## Real values to estimate (array)\n",
    "A = np.array([[.5,0,0],[.1,.1,.3],[0,.2,.3]]) #A = A1, VAR(p=1)\n",
    "U = np.array([[2,0.11,0.09],[0.11,1.5,0.13],[0.09,0.13,1]])\n",
    "print(U)\n",
    "print(np.linalg.eigvals(A))\n",
    "print(np.linalg.eigvals(U))\n",
    "\n",
    "## Generate perturbed matrices\n",
    "A_noise = pert_matrix(A,scale,n_rnd_param)\n",
    "U_noise = pert_matrix(U,scale,n_rnd_param)\n",
    "\n",
    "## Power curve\n",
    "data_csv = pd.read_csv('data_power.csv') # Speed-PowerGeneration data.\n",
    "xdata = data_csv['Wind speed (m/s)'].values\n",
    "ydata = data_csv['Power (kW)'].values\n",
    "fit_out = curve_fit(ut.PL5, xdata, ydata, maxfev=10000)\n",
    "a = fit_out[0][0]\n",
    "b = fit_out[0][1]\n",
    "c = fit_out[0][2]\n",
    "d = fit_out[0][3]\n",
    "g = fit_out[0][4]"
   ]
  },
  {
   "cell_type": "code",
   "execution_count": 7,
   "metadata": {},
   "outputs": [
    {
     "name": "stdout",
     "output_type": "stream",
     "text": [
      "(5, 4, 2)\n",
      "[[0.12139884 0.06061942 0.12123124 0.0612376 ]\n",
      " [0.18413171 0.13097145 0.12108267 0.38377883]\n",
      " [0.06073441 0.14664256 0.31757718 0.21608813]\n",
      " [0.06053257 0.06053269 0.         0.06093419]\n",
      " [0.20289829 0.06150546 0.06133804 0.        ]]\n",
      "[[0.12246379 0.18229831 0.06053391 0.06053425]\n",
      " [0.06831003 0.06420185 0.06054258 0.06115063]\n",
      " [0.06837318 0.19017436 0.15290775 0.22302107]\n",
      " [0.0606376  0.06053267 0.06057061 0.12106573]\n",
      " [0.12174255 0.18325269 0.0606169  0.        ]]\n",
      "(10, 4)\n",
      "[[0.12139884 0.06061942 0.12123124 0.0612376 ]\n",
      " [0.12246379 0.18229831 0.06053391 0.06053425]\n",
      " [0.18413171 0.13097145 0.12108267 0.38377883]\n",
      " [0.06831003 0.06420185 0.06054258 0.06115063]\n",
      " [0.06073441 0.14664256 0.31757718 0.21608813]\n",
      " [0.06837318 0.19017436 0.15290775 0.22302107]\n",
      " [0.06053257 0.06053269 0.         0.06093419]\n",
      " [0.0606376  0.06053267 0.06057061 0.12106573]\n",
      " [0.20289829 0.06150546 0.06133804 0.        ]\n",
      " [0.12174255 0.18325269 0.0606169  0.        ]]\n"
     ]
    },
    {
     "name": "stderr",
     "output_type": "stream",
     "text": [
      "C:\\Users\\Samuel\\Desktop\\2018_01\\IIC 3695 Intel Maquina\\Tareas y Proyecto\\Proyecto\\Code\\TAIM\\utils.py:413: RuntimeWarning: covariance is not positive-semidefinite.\n",
      "  samples = np.random.multivariate_normal(np.zeros(Kv),CovU,size=n_samples)\n"
     ]
    }
   ],
   "source": [
    "## Simulation of wind speed\n",
    "cap_wind = 3 # wind plant capacity (eg. 3MW)\n",
    "cut_speed = 20 # Speed where generator stop working for security.\n",
    "\n",
    "sampl_traj = np.zeros((n_samples,horizon,n_rnd_param)) #list of generated trajectories for EACH sampled VAR paremeter\n",
    "for s_samp in range(n_rnd_param):\n",
    "    A_s = A_noise[s_samp]\n",
    "    U_s = U_noise[s_samp]\n",
    "    traj_wind = ut.sim_wind(A_s,U_s,x0,horizon,n_samples)\n",
    "    pow_wind = ut.power_curve(traj_wind, cap_wind, cut_speed, a, b, c, d, g)\n",
    "    sampl_traj[:,:,s_samp] = np.sum(pow_wind,axis=0)\n",
    "    \n",
    "print(sampl_traj.shape) #n_samples,horizon,n_rnd_param\n",
    "print(sampl_traj[:,:,0])\n",
    "print(sampl_traj[:,:,1])\n",
    "\n",
    "y = np.swapaxes(sampl_traj,1,2)\n",
    "y = np.reshape(y,(n_samples*n_rnd_param,horizon))\n",
    "print(y.shape)\n",
    "print(y)"
   ]
  },
  {
   "cell_type": "code",
   "execution_count": null,
   "metadata": {},
   "outputs": [],
   "source": []
  }
 ],
 "metadata": {
  "kernelspec": {
   "display_name": "Python 3",
   "language": "python",
   "name": "python3"
  },
  "language_info": {
   "codemirror_mode": {
    "name": "ipython",
    "version": 3
   },
   "file_extension": ".py",
   "mimetype": "text/x-python",
   "name": "python",
   "nbconvert_exporter": "python",
   "pygments_lexer": "ipython3",
   "version": "3.6.4"
  }
 },
 "nbformat": 4,
 "nbformat_minor": 2
}
