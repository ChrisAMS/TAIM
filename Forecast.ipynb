{
 "cells": [
  {
   "cell_type": "code",
   "execution_count": 1,
   "metadata": {},
   "outputs": [],
   "source": [
    "import numpy as np\n",
    "import utils as ut\n",
    "import pandas as pd\n",
    "from scipy.optimize import curve_fit\n",
    "import matplotlib.pyplot as plt\n",
    "\n",
    "#function to generate perturbed matrices close to original matrix\n",
    "def pert_matrix(mat_in,scale,n_rnd_param): \n",
    "    #mat_in: squared matrix to be perturbed (N x N)\n",
    "    #scale: added perturbation between [0,scale]\n",
    "    #n_rnd_param: number of perturbed matrix generated\n",
    "    \n",
    "    #dimension of the problem\n",
    "    N = mat_in.shape[0]\n",
    "    \n",
    "    #eigendecomposition\n",
    "    w,v = np.linalg.eig(mat_in)\n",
    "    V   = v\n",
    "    W   = np.diag(w)\n",
    "\n",
    "    #generate perturbed matrices\n",
    "    A_noise = []\n",
    "    for rng in range(n_rnd_param):\n",
    "        V_noise = scale*np.random.rand(N,N) + V\n",
    "        A_noise.append(V_noise @ W @ np.linalg.inv(V_noise))\n",
    "        \n",
    "    return A_noise\n",
    " "
   ]
  },
  {
   "cell_type": "code",
   "execution_count": 2,
   "metadata": {},
   "outputs": [
    {
     "name": "stdout",
     "output_type": "stream",
     "text": [
      "[[2.   0.11 0.09]\n",
      " [0.11 1.5  0.13]\n",
      " [0.09 0.13 1.  ]]\n",
      "[ 0.46457513 -0.06457513  0.5       ]\n",
      "[2.03611991 1.49939394 0.96448615]\n"
     ]
    }
   ],
   "source": [
    "## Input parameters\n",
    "scale = 0.1     #scale for which original is perturbed\n",
    "n_rnd_param = 2 #number of perturbed matrices to generate\n",
    "x0 = np.transpose(np.matrix([[0.3,0.4,0.7]]))  #starting point (value from which forecast are made)\n",
    "horizon = 4    #how many steps-ahead the forecast are made\n",
    "n_samples = 1000  #how many forecast/trajectories are generated for EACH sampled VAR parameter\n",
    "\n",
    "## Real values to estimate (array)\n",
    "A = np.array([[.5,0,0],[.1,.1,.3],[0,.2,.3]]) #A = A1, VAR(p=1)\n",
    "U = np.array([[2,0.11,0.09],[0.11,1.5,0.13],[0.09,0.13,1]])\n",
    "print(U)\n",
    "print(np.linalg.eigvals(A))\n",
    "print(np.linalg.eigvals(U))\n",
    "\n",
    "## Generate perturbed matrices\n",
    "A_noise = pert_matrix(A,scale,n_rnd_param)\n",
    "U_noise = pert_matrix(U,scale,n_rnd_param)\n",
    "\n",
    "## Power curve\n",
    "data_csv = pd.read_csv('data_power.csv') # Speed-PowerGeneration data.\n",
    "xdata = data_csv['Wind speed (m/s)'].values\n",
    "ydata = data_csv['Power (kW)'].values\n",
    "fit_out = curve_fit(ut.PL5, xdata, ydata, maxfev=10000)\n",
    "a = fit_out[0][0]\n",
    "b = fit_out[0][1]\n",
    "c = fit_out[0][2]\n",
    "d = fit_out[0][3]\n",
    "g = fit_out[0][4]"
   ]
  },
  {
   "cell_type": "code",
   "execution_count": 3,
   "metadata": {},
   "outputs": [],
   "source": [
    "#function that receives perturbed matrices for A,U and builds the resulting trajectories\n",
    "def simulate_traj(A_noise,U_noise,offset,n_samples,horizon,n_rnd_param,cap_wind,cut_speed, a, b, c, d, g):\n",
    "    #A_noise: perturbed matrices for A\n",
    "    #U_noise: perturbed matrices for U\n",
    "    #cap_wind: installed capacity of each wind farm\n",
    "    #cut_speed: cut out speed for wind turbines\n",
    "    \n",
    "    #sampl_traj: output vector with dimensions (n_samples,horizon,n_rnd_param)\n",
    "    \n",
    "    #list of generated trajectories for EACH sampled VAR paremeter\n",
    "    sampl_traj = np.zeros((n_samples,horizon,n_rnd_param)) \n",
    "    for s_samp in range(n_rnd_param):\n",
    "        A_s = A_noise[s_samp]\n",
    "        U_s = U_noise[s_samp]\n",
    "        traj_wind = ut.sim_wind(A_s,U_s,x0,horizon,n_samples)\n",
    "        traj_wind = offset + traj_wind\n",
    "        pow_wind = ut.power_curve(traj_wind, cap_wind, cut_speed, a, b, c, d, g)\n",
    "        sampl_traj[:,:,s_samp] = np.sum(pow_wind,axis=0)\n",
    "    \n",
    "    return sampl_traj\n",
    "    \n",
    "def process_traj(sampl_traj,ql,qu,n_samples,n_rnd_param,horizon,flag_hist):\n",
    "    #sampl_traj: sampled trajectoried from perturbed matrices (simulate_traj)\n",
    "    #ql,qu: lower and upper quantile (1..100)\n",
    "    #flag_hist: show comparison of histograms? (example case)\n",
    "    \n",
    "    #mean_mix: vector of means of total power generation for each horizon\n",
    "    #ql_mix: lower quantile vector of total power generation for each horizon\n",
    "    #qu_mix: lupper quantile vector of total power generation for each horizon\n",
    "    \n",
    "    #Mixing of all sampled VAR parameters trajectories\n",
    "    mixed_traj = np.swapaxes(sampl_traj,1,2)\n",
    "    mixed_traj = np.reshape(mixed_traj,(n_samples*n_rnd_param,horizon))\n",
    "    \n",
    "    #Example figures (only first horizon)\n",
    "    if(flag_hist and (n_rnd_param<5)):\n",
    "        print(\"Example figures for first horizon\")\n",
    "        f, axarr = plt.subplots(n_rnd_param+1, sharex=True)\n",
    "        for n in range(n_rnd_param):\n",
    "            axarr[n].hist(sampl_traj[:,0,n], 50, density=True, facecolor='green', alpha=0.75)\n",
    "            axarr[n].set_title('VAR Param case'+str(n+1))\n",
    "        axarr[n_rnd_param].hist(mixed_traj[:,0],50, density=True, facecolor='green', alpha=0.75)\n",
    "        axarr[n_rnd_param].set_title('Mixed VAR Param case')\n",
    "    elif(flag_hist and (n_rnd_param>=5)):\n",
    "        print(\"ERROR: Examples figures cannot be shown for more than 4 sampled VAR parameters\")\n",
    "        \n",
    "    #Computation of intervals and mean\n",
    "    mean_mix = np.mean(mixed_traj,axis=0)\n",
    "    ql_mix = np.percentile(mixed_traj,ql,axis=0)\n",
    "    qu_mix = np.percentile(mixed_traj,qu,axis=0)\n",
    "        \n",
    "    return [mean_mix,ql_mix,qu_mix]\n",
    "            "
   ]
  },
  {
   "cell_type": "code",
   "execution_count": 5,
   "metadata": {},
   "outputs": [
    {
     "name": "stderr",
     "output_type": "stream",
     "text": [
      "C:\\Users\\Samuel\\Desktop\\2018_01\\IIC 3695 Intel Maquina\\Tareas y Proyecto\\Proyecto\\Code\\TAIM\\utils.py:413: RuntimeWarning: covariance is not positive-semidefinite.\n",
      "  samples = np.random.multivariate_normal(np.zeros(Kv),CovU,size=n_samples)\n"
     ]
    },
    {
     "name": "stdout",
     "output_type": "stream",
     "text": [
      "Example figures for first horizon\n",
      "Resulting mean and quantiles\n",
      "[array([3.67008416, 3.54743511, 3.50218984, 3.46217527]), array([2.51883072, 2.28781658, 2.25133125, 2.21743191]), array([4.88959205, 4.89605165, 4.88283983, 4.8311128 ])]\n"
     ]
    },
    {
     "data": {
      "image/png": "[encoded data removed]",
      "text/plain": [
       "<Figure size 432x288 with 3 Axes>"
      ]
     },
     "metadata": {},
     "output_type": "display_data"
    }
   ],
   "source": [
    "## Simulation of wind speed\n",
    "cap_wind = 3 # wind plant capacity (eg. 3MW)\n",
    "cut_speed = 20 # Speed where generator stop working for security.\n",
    "offset = np.array([3,7,10])\n",
    "offset = offset[:,None,None] #(3,) -> (3,1,1)\n",
    "ql = 5\n",
    "qu = 95\n",
    "\n",
    "\n",
    "sampl_traj = simulate_traj(A_noise,U_noise,offset,n_samples,horizon,n_rnd_param,cap_wind,cut_speed, a, b, c, d, g)\n",
    "list_mix = process_traj(sampl_traj,ql,qu,n_samples,n_rnd_param,horizon,True)\n",
    "\n",
    "print(\"Resulting mean and quantiles\")\n",
    "print(list_mix)    "
   ]
  },
  {
   "cell_type": "code",
   "execution_count": null,
   "metadata": {},
   "outputs": [],
   "source": []
  }
 ],
 "metadata": {
  "kernelspec": {
   "display_name": "Python 3",
   "language": "python",
   "name": "python3"
  },
  "language_info": {
   "codemirror_mode": {
    "name": "ipython",
    "version": 3
   },
   "file_extension": ".py",
   "mimetype": "text/x-python",
   "name": "python",
   "nbconvert_exporter": "python",
   "pygments_lexer": "ipython3",
   "version": "3.6.4"
  }
 },
 "nbformat": 4,
 "nbformat_minor": 2
}
