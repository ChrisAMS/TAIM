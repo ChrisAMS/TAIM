{
 "cells": [
  {
   "cell_type": "markdown",
   "metadata": {},
   "source": [
    "# Sampleo de parámetros del modelo VAR\n",
    "\n",
    "La finalidad del primer sampleo es encontrar los parámetros para el modelo Vectorial Autoregresivo. Si consideramos una serie de tiempo de dimensión $K$, $y_{1},..., y_{T}$ en donde $y_{t}=(y_{1t}, ..., y_{Kt})$ es un vector de dimensión $K$, entonces el modelo VAR$(p)$ queda definido como (Lutkepohl , 2005):\n",
    "\n",
    "$$y_{t}=\\upsilon + A_{1}y_{t-1}+...+A_{p}y_{t-p}+u_{t} \\quad (1)$$\n",
    "\n",
    "En donde $\\upsilon=(\\upsilon_{1},...,\\upsilon_{K})$ es el vector de interceptos ($K\\times1$), $A_{i}$ son los coeficientes matriciales ($K\\times K$) y finalmente $u_{t}$ es un ruido blanco de covarianza $\\Sigma_{u}$, la cual es de dimensión ($K\\times K$). En este caso, asumimos el ruido blanco como una normal multivariada de $K$ dimensiones. Además, definimos la matriz $A=(A_{1}, ..., A_{p})$ en base a los coeficientes matriciales $A_{i}$.\n",
    "\n",
    "De acuerdo a la definición (1), es posible definir la función de log-likelihood correspondiente (Lutkephol, 2005):\n",
    "\n",
    "$$ -\\frac{KT}{2}ln \\, 2\\pi - \\frac{T}{2} ln \\, |\\Sigma_{u}| - \\frac{1}{2} tr \\left[ (Y^0 - AX)' \\Sigma_{u}^{-1} (Y^0 - AX) \\right] \\quad (2)$$\n",
    "$$Y^0 = (y_{1} - \\upsilon , ..., y_{T} - \\upsilon)$$\n",
    "$$X = (Y_0, \\ldots, Y_{T-1}) $$\n",
    "$$ Y_t = (y_{t} - \\upsilon, \\ldots, y_{t-p+1} - \\upsilon)' \\quad \\forall t = 1,\\ldots,T $$\n",
    "\n",
    "donde $T$ corresponde al numero de observaciones, $tr$ corresponde a la traza de la matriz, y las matrices $Y^0,X$ son obtenidas a partir de las observaciones del proceso $y_{t}$ del modelo VAR. De esta forma, y asumiendo una prior uniforme, es posible definir la distribución posterior de los parámetros $A,\\Sigma_u$ en base a (2), a partir de la cual podemos obtener muestras por métodos de Markov Chain Monte Carlo (MCMC).\n",
    "\n",
    "Para capturar la incertidumbre en los parámetros $A,\\Sigma_u$, generamos muestras mediante el método de Gibbs Sampling. En específico, se consideran las distribuciones de probabilidad para la matriz $A$ dadas por:\n",
    "\n",
    "$$p(A_{ijk}|A_{-i-j-k}, \\Sigma_{u}, D), \\forall i,j,k. 1\\leq i \\leq p \\wedge 1\\leq j, k \\leq K$$\n",
    "\n",
    "en donde $i$ representa a un coeficiente en específico de $A_i$ de acuerdo a la eq. (1). Los indices $j, k$ representan una entrada en específico de la matriz coeficiente $A_i$ de dimensión $K\\times K$.\n",
    "\n",
    "Además, para la matriz de covarianza del ruido blanco $\\Sigma_{u}$, se considera la distribución de probabilidad dada por:\n",
    "\n",
    "$$p({\\Sigma_{u}}_{ij}|A, {\\Sigma_{u}}_{-i-j}, D), \\forall i,j. 1 \\leq i, j \\leq K $$\n",
    "\n",
    "en donde $i,j$ representa una entrada en específico de la matriz $\\Sigma_{u}$. \n",
    "\n",
    "Lo anterior, da lugar a una actualización continua de las matrices $A,\\Sigma_{u}$, en donde se fijan todas las entradas de las matrices excepto una, la cual es sampleada según alguna distribución $q$ predefinida utilizando Metropolis Hastings. Hasta el momento hemos elegido $q$ ser una normal univariada.\n",
    "\n",
    "Cabe destacar que para cada sampleo univariado se revisa si es que el nuevo parámetro (en conjunto con los anteriores) cumplen con ciertas restricciones. Para la matriz $A$ se debe cumplir que esta sea estable y $\\Sigma_{u}$ debe ser semidefinida positiva (porque se trata de una normal multivariada), por lo tanto, no se acepta el sampleo de un nuevo parámetro hasta que se cumplen estas condiciones.\n",
    "\n",
    "En la implementación definimos una variable $\\theta$ que contiene todos los parámetros correspondientes a las matrices $A$ y $\\Sigma_{u}$ en un vector. De esta manera pudimos ir iterando por cada parámetro para ir sampleándolos de manera más simple.\n",
    "\n",
    "A medida que realizábamos experimentos, nos dimos cuenta que los parámetros sampleados no variaban mucho, por lo que decidimos incluir Simulated Annealing para abarcar un mayor espectro de las funciones de probabilidades condicionales definidas anteriormente."
   ]
  },
  {
   "cell_type": "markdown",
   "metadata": {},
   "source": [
    "# Procedimiento del sampleo"
   ]
  },
  {
   "cell_type": "markdown",
   "metadata": {},
   "source": [
    "Para obtener una distribución de los parámetros del modelo VAR, tuvimos que ocupar varios computadores debido al gran tiempo que demoraba el sampleo. El código utilizado para realizar este procedimiento puede encontrarse en **parameters_generation.py**. La obtención $1000$ muestras demoró alrededor de 8 horas.\n",
    "\n",
    "Debido a que la toma de muestras demoraba mucho, decidimos realizar muestras de un modelo VAR con $p=1$, es decir, tomando en cuenta solo el tiempo anterior para pronosticar el próximo valor de la velocidad del viento. Sin embargo, es posible extender el modelo desarrollado en este proyecto para un $p$ mayor."
   ]
  },
  {
   "cell_type": "code",
   "execution_count": 1,
   "metadata": {},
   "outputs": [],
   "source": [
    "import pickle\n",
    "import pandas as pd\n",
    "import numpy as np\n",
    "import matplotlib.pyplot as plt\n",
    "from forecast import simulate_traj, process_traj\n",
    "from utils import curve_fit, PL5"
   ]
  },
  {
   "cell_type": "code",
   "execution_count": 2,
   "metadata": {},
   "outputs": [],
   "source": [
    "# Load generated samples.\n",
    "SAMPLES_PATH = '/home/chrisams/Documents/datasets/data_TAIM/samples_1_1000.pickle'\n",
    "with open(SAMPLES_PATH, 'rb') as f:\n",
    "    samples = pickle.load(f)\n",
    "\n",
    "A_samples = [None] * len(samples)\n",
    "U_samples = [None] * len(samples)\n",
    "\n",
    "for i in range(len(samples)):\n",
    "    A_samples[i] = samples[i][0]\n",
    "    U_samples[i] = samples[i][1]\n",
    "\n",
    "# File names used to sample.\n",
    "PLANT_NAMES = [\n",
    "    'd05b_2010-06-19_2018-03-05.csv',\n",
    "    'd01_2009-07-12_2018-01-17.csv',\n",
    "]\n",
    "\n",
    "# Load stats (mean and std of files).\n",
    "STATS_PATH = '/home/chrisams/Documents/datasets/data_TAIM/stats.pickle'\n",
    "with open(STATS_PATH, 'rb') as f:\n",
    "    stats = pickle.load(f)"
   ]
  },
  {
   "cell_type": "markdown",
   "metadata": {},
   "source": [
    "# Gráfica de la curva de potencia\n",
    "\n",
    "El siguiente código busca los parámetros de una curva de potencia que se adaptan a los datos de potencia generada según la velocidad del viento (medidos experimentalmente)."
   ]
  },
  {
   "cell_type": "code",
   "execution_count": 3,
   "metadata": {},
   "outputs": [],
   "source": [
    "POWER_DATA_PATH = '/home/chrisams/Documents/datasets/data_TAIM/data_power.csv'\n",
    "\n",
    "power_data_csv = pd.read_csv(POWER_DATA_PATH) # Speed-PowerGeneration data.\n",
    "xdata = power_data_csv['Wind speed (m/s)'].values\n",
    "ydata = power_data_csv['Power (kW)'].values\n",
    "\n",
    "fit_out = curve_fit(PL5, xdata, ydata, maxfev=10000)"
   ]
  },
  {
   "cell_type": "code",
   "execution_count": 4,
   "metadata": {},
   "outputs": [
    {
     "data": {
      "image/png": "[encoded data removed]",
      "text/plain": [
       "<Figure size 432x288 with 1 Axes>"
      ]
     },
     "metadata": {},
     "output_type": "display_data"
    }
   ],
   "source": [
    "# Plot of the power curve obtained.\n",
    "u = np.linspace(0.01,20,num=100)\n",
    "a = fit_out[0][0]\n",
    "b = fit_out[0][1]\n",
    "c = fit_out[0][2]\n",
    "d = fit_out[0][3]\n",
    "g = fit_out[0][4]\n",
    "plt_out = PL5(u,a,b,c,d,g)\n",
    "plt.plot(u,plt_out)\n",
    "plt.xlabel('Wind speed (m/s)')\n",
    "plt.ylabel('Normalized power output (MW)')\n",
    "plt.show()"
   ]
  },
  {
   "cell_type": "markdown",
   "metadata": {},
   "source": [
    "# Predicción de la potencia generada\n",
    "\n",
    "En la entrega anterior detallamos los pasos que se hacían para llegar a predecir la potencia generada, sin embargo, ahora todo está contenido en el siguiente código. "
   ]
  },
  {
   "cell_type": "code",
   "execution_count": 5,
   "metadata": {
    "scrolled": true
   },
   "outputs": [
    {
     "name": "stderr",
     "output_type": "stream",
     "text": [
      "/home/chrisams/repos/TAIM/utils.py:442: RuntimeWarning: covariance is not positive-semidefinite.\n",
      "  samples = np.random.multivariate_normal(np.zeros(Kv),CovU,size=n_samples)\n"
     ]
    },
    {
     "name": "stdout",
     "output_type": "stream",
     "text": [
      "Resulting mean and quantiles\n",
      "[array([4.75352245, 4.53250132, 4.38755358, 4.27150198]), array([2.95322449, 2.12236002, 1.57266073, 1.17334706]), array([5.94941286, 6.01241693, 6.03106519, 6.03771674])]\n"
     ]
    }
   ],
   "source": [
    "# Simulation of wind speed\n",
    "x0 = np.transpose(np.matrix([[0.3, 0.4]]))  #starting point (value from which forecast are made)\n",
    "horizon = 4    #how many steps-ahead the forecast are made\n",
    "n_samples = 1000  #how many forecast/trajectories are generated for EACH sampled VAR parameter\n",
    "n_rnd_param = len(samples) \n",
    "cap_wind = 3 # wind plant capacity (eg. 3MW)\n",
    "cut_speed = 20 # Speed where generator stop working for security.\n",
    "offset_0 = np.array([stats[PLANT_NAMES[0]]['mean'],stats[PLANT_NAMES[1]]['mean']])\n",
    "offset_1 = offset_0[:,None,None] #(3,) -> (3,1,1)\n",
    "std_a = np.array([stats[PLANT_NAMES[0]]['std'],stats[PLANT_NAMES[1]]['std']])\n",
    "std = std_a[:, None, None]\n",
    "ql = 5\n",
    "qu = 95\n",
    "\n",
    "\n",
    "#sampl_traj = simulate_traj(A_samples, U_samples, x0, offset_1, std, n_samples, horizon,\\\n",
    "#                           n_rnd_param, cap_wind, cut_speed, a, b, c, d, g)\n",
    "#list_mix = process_traj(sampl_traj, ql, qu, n_samples, n_rnd_param, horizon, False)\n",
    "#\n",
    "#print(\"Resulting mean and quantiles\")\n",
    "#print(list_mix) "
   ]
  },
  {
   "cell_type": "code",
   "execution_count": null,
   "metadata": {},
   "outputs": [],
   "source": [
    "## Ficticious data parameters\n",
    "n_data = 10 #number of hours in which forecasts are made (different from horizon)\n",
    "#x_data = np.random.rand(3,n_data) + offset_0[:,None] #rnd matrix with numbers between [0,1)\n",
    "K_dim  = A.shape[0]\n",
    "\n",
    "## Generate ficticious data from which sample (x_data is zero mean)\n",
    "x_data = np.zeros((3,n_data)) #it is assummed previous value was zero\n",
    "for t in range(1,n_data):\n",
    "    x0_aux = x_data[:,t-1]\n",
    "    fc_wind = ut.sim_wind(A,U,x0_aux[:,None],1,1)\n",
    "    x_data[:,t] = fc_wind.flatten() \n",
    "\n",
    "## 'Real' total generation from data\n",
    "wind_data = x_data + offset_0[:,None]# here offset is added so real total generation is consistent\n",
    "pow_data = ut.power_curve(wind_data,cap_wind,cut_speed,a,b,c,d,g) #apply power curve\n",
    "gen_data = np.sum(pow_data,axis=0) #sum for all wind farms\n",
    "\n",
    "## Forecasts\n",
    "mean_t = np.zeros((n_data,horizon)) #mean\n",
    "ql_t = np.zeros((n_data,horizon)) #lower quantile\n",
    "qu_t = np.zeros((n_data,horizon)) #upper quantile\n",
    "\n",
    "for t in range(n_data):\n",
    "    #get previous point from which forecast is made\n",
    "    x0 = x_data[:,t]\n",
    "    x0 = x0[:,None]\n",
    "    \n",
    "    #make forecast\n",
    "    sampl_traj = fc.simulate_traj(A_noise,U_noise,x0,offset_1,n_samples,horizon,n_rnd_param,cap_wind,cut_speed, a, b, c, d, g)\n",
    "    list_mix = fc.process_traj(sampl_traj,ql,qu,n_samples,n_rnd_param,horizon,False)\n",
    "    mean_t[t,:] = list_mix[0]\n",
    "    ql_t[t,:] = list_mix[1]\n",
    "    qu_t[t,:] = list_mix[2]\n",
    "    \n",
    "print(\"Only 1 step ahead forecasts are shown\")\n",
    "plt.figure()\n",
    "plt.plot(range(n_data),gen_data,color='green') #'real' generation'\n",
    "plt.plot(range(1,n_data),mean_t[:-1,0],color='blue') #mean forecast\n",
    "plt.plot(range(1,n_data),ql_t[:-1,0],color='red') #interval forecast\n",
    "plt.plot(range(1,n_data),qu_t[:-1,0],color='red') \n",
    "plt.show()"
   ]
  }
 ],
 "metadata": {
  "kernelspec": {
   "display_name": "Python 3",
   "language": "python",
   "name": "python3"
  },
  "language_info": {
   "codemirror_mode": {
    "name": "ipython",
    "version": 3
   },
   "file_extension": ".py",
   "mimetype": "text/x-python",
   "name": "python",
   "nbconvert_exporter": "python",
   "pygments_lexer": "ipython3",
   "version": "3.6.5"
  }
 },
 "nbformat": 4,
 "nbformat_minor": 2
}
