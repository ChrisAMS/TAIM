{
 "cells": [
  {
   "cell_type": "code",
   "execution_count": 4,
   "metadata": {},
   "outputs": [
    {
     "name": "stdout",
     "output_type": "stream",
     "text": [
      "[ 0.27597967 -0.16096451  0.34053674 -0.62989491]\n",
      "[-0.62989491 -0.16096451  0.34053674  0.27597967]\n"
     ]
    }
   ],
   "source": [
    "import numpy as np\n",
    "\n",
    "#Eigendecomposition is used. U = QAQ^(-1)\n",
    "#where A is a diagonal matrix whose entries are the eigenvalues of U,\n",
    "#and Q is a matrix whose columns are the eigenvectors of U\n",
    "\n",
    "#Procedure goes as follows:\n",
    "#1) Generate random Q matrix\n",
    "#2) Check is invertible. If not generate new random Q matrix\n",
    "#3) Assuming Q is invertible, generate diagonales entries of A \n",
    "#   such that they have the needed properties (e.g. eigenvalues>0)\n",
    "#4) Calculate U\n",
    "\n",
    "\n",
    "#Parameters for Q\n",
    "N = 4      #dimension of random square matrix\n",
    "scale = 1 #random matrix by fault between [0,1), reason why it should be scaled\n",
    "\n",
    "#Generate nonsingunlar Q (invertible)\n",
    "valid = False\n",
    "while True:\n",
    "    Q     = scale*np.random.rand(N,N)\n",
    "    try:\n",
    "        inv_Q = np.linalg.inv(Q)\n",
    "        break\n",
    "    except np.linalg.LinAlgError:\n",
    "        print(\"sampled Q matrix is not invertible\")\n",
    "\n",
    "\n",
    "#Generate eigenvalues for A\n",
    "lb = -1 #lower bound for eigenvalues\n",
    "ub = 1  #upper bound for eigenvalues\n",
    "eigval = (ub-lb)*np.random.random(N) + lb #numpy function samples from U(0,1)\n",
    "A = np.diag(eigval)\n",
    "\n",
    "#Calculate desired matrix U and verify correct eigenvalues\n",
    "U = Q @ A @ inv_Q#np.linalg.inv(Q)\n",
    "print(eigval)\n",
    "print(np.linalg.eigvals(U))"
   ]
  },
  {
   "cell_type": "markdown",
   "metadata": {},
   "source": [
    "# Trabajo pendiente\n",
    "1) Programar maximum likelihood (optimizacion)\n",
    "2) Calcular periodic trend"
   ]
  },
  {
   "cell_type": "code",
   "execution_count": null,
   "metadata": {},
   "outputs": [],
   "source": []
  }
 ],
 "metadata": {
  "kernelspec": {
   "display_name": "Python 3",
   "language": "python",
   "name": "python3"
  },
  "language_info": {
   "codemirror_mode": {
    "name": "ipython",
    "version": 3
   },
   "file_extension": ".py",
   "mimetype": "text/x-python",
   "name": "python",
   "nbconvert_exporter": "python",
   "pygments_lexer": "ipython3",
   "version": "3.6.4"
  }
 },
 "nbformat": 4,
 "nbformat_minor": 2
}
