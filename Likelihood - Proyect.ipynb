{
 "cells": [
  {
   "cell_type": "code",
   "execution_count": 1,
   "metadata": {},
   "outputs": [],
   "source": [
    "import numpy as np\n",
    "\n",
    "## Calculo matrices Y0,X para loglikehood\n",
    "def calc_Y0X(data): #data must have mean 0\n",
    "    #Y0 is computed\n",
    "    Y0 = data[:,p:] #pre-sample removed for Y0\n",
    "    \n",
    "    #X is computed\n",
    "    X = []\n",
    "    for i in range(p-1,-1,-1):\n",
    "        X.append(data[:,i:(N-p+i)]) \n",
    "    X = np.concatenate(X,axis=0)\n",
    "    \n",
    "    return {\"Y0\":Y0,\"X\":X}\n",
    "\n",
    "## Calculo loglikehood (matricial)\n",
    "def loglhood(CovU,Y0,A,X):\n",
    "    #Loglikehood accoring to Lutkepohl 2005\n",
    "    #Constant term KT/2 ln2pi neglected\n",
    "    #T = Y0.shape[1]\n",
    "    \n",
    "    trace_mat = np.transpose(Y0 - A@X) @ np.linalg.inv(CovU) @ (Y0 - A@X)\n",
    "    out = -(Y0.shape[1]/2)*np.log(np.linalg.det(CovU)) -1/2*np.trace(trace_mat) \n",
    "    return out \n",
    "\n",
    "## Calculo loglikehood (element-wise)\n",
    "def val_loglhood(theta,Y0,X,flag_print):\n",
    "    #theta: vector con coeficientes para A, CovU\n",
    "    #flag_print: si se desea imprimir A, CovU para su revision\n",
    "    #A     = [a_1,...,a_Kp], donde a_j corresponde a la columna j de A (j=1,...,Kp)\n",
    "    #CovU  = [u_1,...,u_K],  donde u_j corresponde a la columna j de CovU (j=1,...,K)\n",
    "    #theta = [vec(A);vec(CovU)] (; indica abajo, no a la derecha, i.e. formato MATLAB)\n",
    "    #theta = [a_1;...;a_Kp;u_1;...;u_K]\n",
    "    \n",
    "    #dimensiones se pueden rescatar de Y0,X\n",
    "    Kv = Y0.shape[0] #K\n",
    "    Tv = Y0.shape[1] #T\n",
    "    pv = int(X.shape[0]/Kv) #p (orden VAR)\n",
    "    \n",
    "    #se verifica que theta tenga las dimensiones correctas\n",
    "    if(not(theta.shape[0] == (pv*Kv**2 + Kv**2))):\n",
    "        print(\"ERROR: dimensiones theta no coinciden con Y0,X\")\n",
    "        \n",
    "    #se re-construyen matrices A, CovU a partir de vector theta entregado\n",
    "    A    = np.reshape(theta[:pv*Kv**2],(Kv*pv,Kv)).swapaxes(0,1)\n",
    "    CovU = np.reshape(theta[pv*Kv**2:],(Kv,Kv)).swapaxes(0,1)\n",
    "    \n",
    "    #se chequea que la matriz CovU sea adecuada (semidefinida positiva)\n",
    "    eig_val_U = np.linalg.eigvals(CovU)\n",
    "    flag_sdp  = np.all(eig_val_U >= 0) #valores propios no negativos\n",
    "    \n",
    "    #se chequea que la matriz A sea adecuada (proceso estable, pag 15 Lutkepohl)\n",
    "    if(pv==1): #no es necesario agregar bloque \n",
    "        A_test = A\n",
    "    else:\n",
    "        A_block  = np.block(np.eye(Kv*(pv-1)))\n",
    "        A_zeros  = np.zeros((Kv*(pv-1),Kv))\n",
    "        A_bottom = np.concatenate((A_block,A_zeros),axis=1)\n",
    "        A_test   = np.concatenate((A,A_bottom),axis=0)\n",
    "    eig_val_A   = np.absolute(np.linalg.eigvals(A_test))\n",
    "    flag_stable = np.all(eig_val_A < 1) #valores propios absolutos menores a 1\n",
    "    \n",
    "    #se evalua la funcion de loglikelihood\n",
    "    if(not(flag_sdp)):\n",
    "        val = -np.inf #fuera del soporte\n",
    "        if(flag_print): #detalles del error\n",
    "            print(\"Matriz CovU no es semidefinita positiva\")\n",
    "            print(CovU)\n",
    "            print(eig_val_U)\n",
    "    elif(not(flag_stable)):\n",
    "        val = -np.inf\n",
    "        if(flag_print): \n",
    "            print(\"Matriz A no es estable\")\n",
    "            print(A)\n",
    "            print(eig_val_A)\n",
    "    else: #Parametros matrices A,CovU validos\n",
    "        val = loglhood(CovU,Y0,A,X) \n",
    "        if(flag_print): #se muestran matrices A, CovU construidas\n",
    "            print(\"Matriz A resulante:\")\n",
    "            print(A)\n",
    "            print(\"-----\")\n",
    "            print(\"Matriz CovU resulante:\")\n",
    "            print(CovU)\n",
    "        \n",
    "    return val"
   ]
  },
  {
   "cell_type": "code",
   "execution_count": 9,
   "metadata": {},
   "outputs": [
    {
     "name": "stdout",
     "output_type": "stream",
     "text": [
      "Matriz A resulante:\n",
      "[[0.0415647  0.49501473]\n",
      " [0.4536736  0.26284492]]\n",
      "-----\n",
      "Matriz CovU resulante:\n",
      "[[0.27615103 0.40532735]\n",
      " [0.26315833 0.92528575]]\n",
      "7.076245408202329\n"
     ]
    }
   ],
   "source": [
    "## Parametros modelo VAR(p)\n",
    "N = 10  #total ammount to data (including pre-sample)\n",
    "K = 2   #dimension variables aleatorias\n",
    "p = 1   #orden VAR\n",
    "T = N-p #size of data after removing pre-sample \n",
    "\n",
    "## (Temporal) inicializacion de datos ficticios\n",
    "data    = np.random.rand(K,N) #unnormalized data (includes pre-sample)\n",
    "mu_mean = np.transpose(np.asmatrix(np.mean(data,axis=1))) #data mean\n",
    "data    = data - mu_mean #data is normalized \n",
    "Y0X     = calc_Y0X(data)\n",
    "\n",
    "### Metodo 1 de prueba: matrices A, CovU generadas previamente\n",
    "## matriz A (K x Kp)\n",
    "#A = np.random.rand(K,K*p)\n",
    "## matriz de Covarianza para ruido U (K x K)\n",
    "#CovU = np.random.rand(K,K)\n",
    "#CovU = CovU @ np.transpose(CovU) #generate semidefinite matrix\n",
    "#flag_sdp = np.all(np.linalg.eigvals(CovU) >= 0) #checkeo valores propios postivos (matrix semidefinida)\n",
    "#if (not(flag_sdp)):\n",
    "#    print(\"ERROR: Matriz no es semidefinida positiva\")\n",
    "#out1 = loglhood(CovU,Y0X['Y0'],A,Y0X['X'])\n",
    "#print(out1)\n",
    "\n",
    "\n",
    "## Metodo 2 de prueba: se entrega vector theta con coeficientes matrices A,CovU\n",
    "thetaA = np.random.rand(p*K**2,1) #coeficientes matriz A\n",
    "thetaU = np.random.rand(K**2,1) #coeficientes matriz CovU\n",
    "theta  = np.concatenate((thetaA,thetaU),axis=0)\n",
    "out2   = val_loglhood(theta,Y0X['Y0'],Y0X['X'],True)\n",
    "print(out2)"
   ]
  },
  {
   "cell_type": "markdown",
   "metadata": {},
   "source": [
    "## Case study"
   ]
  },
  {
   "cell_type": "code",
   "execution_count": 11,
   "metadata": {},
   "outputs": [
    {
     "data": {
      "image/png": "[encoded data removed]",
      "text/plain": [
       "<Figure size 432x288 with 1 Axes>"
      ]
     },
     "metadata": {},
     "output_type": "display_data"
    },
    {
     "name": "stdout",
     "output_type": "stream",
     "text": [
      "-0.005370707885318843\n"
     ]
    }
   ],
   "source": [
    "from scipy.stats import norm\n",
    "import matplotlib.pyplot as plt\n",
    "\n",
    "#Parametros AR(1)\n",
    "x0 = 0 #punto inicio\n",
    "std_dv = 1\n",
    "N_samples = 1000\n",
    "phi = 0.7 #coef AR(1)\n",
    "\n",
    "#Simula serie de tiempo\n",
    "noise = norm.rvs(loc=0,scale=std_dv,size=N_samples)\n",
    "xt = [0]*N_samples\n",
    "xt[0] = x0\n",
    "for t in range(1,N_samples):\n",
    "    xt[t] = phi*xt[t-1] + noise[t-1]\n",
    "    \n",
    "#Grafico serie\n",
    "plt.plot(xt)\n",
    "plt.show()\n",
    "print(np.mean(xt))"
   ]
  },
  {
   "cell_type": "code",
   "execution_count": 12,
   "metadata": {},
   "outputs": [],
   "source": [
    "N = N_samples  #total ammount to data (including pre-sample)\n",
    "K = 1   #dimension variables aleatorias\n",
    "p = 1   #orden VAR\n",
    "T = N-p #size of data after removing pre-sample \n",
    "\n",
    "x_mat = np.matrix(xt) #data to matrix format\n",
    "Y0X = calc_Y0X(x_mat)"
   ]
  },
  {
   "cell_type": "code",
   "execution_count": 13,
   "metadata": {},
   "outputs": [
    {
     "name": "stdout",
     "output_type": "stream",
     "text": [
      "(90, 15)\n"
     ]
    },
    {
     "data": {
      "image/png": "[encoded data removed]",
      "text/plain": [
       "<Figure size 432x288 with 2 Axes>"
      ]
     },
     "metadata": {},
     "output_type": "display_data"
    }
   ],
   "source": [
    "phi,sigma = np.mgrid[0:0.9:.01,0.5:2:0.1]\n",
    "print(phi.shape)\n",
    "lhood_mat = np.zeros(phi.shape)\n",
    "\n",
    "for i in range(0,phi.shape[0]):\n",
    "    for j in range(0,phi.shape[1]):\n",
    "        A    = np.matrix(phi[i,j])\n",
    "        CovU = np.matrix(sigma[i,j])\n",
    "        lhood_mat[i,j] = np.exp(loglhood(CovU,Y0X['Y0'],A,Y0X['X']))\n",
    "\n",
    "fig, ax = plt.subplots(1, 1)\n",
    "cf = ax.contourf(phi, sigma, lhood_mat)\n",
    "fig.colorbar(cf)\n",
    "ax.set_xlabel('phi')\n",
    "ax.set_ylabel('sigma')\n",
    "#ax.set_xlim([0.6,0.8])\n",
    "#ax.set_ylim([0.8,1.2])\n",
    "plt.show()"
   ]
  },
  {
   "cell_type": "code",
   "execution_count": null,
   "metadata": {},
   "outputs": [],
   "source": []
  }
 ],
 "metadata": {
  "kernelspec": {
   "display_name": "Python 3",
   "language": "python",
   "name": "python3"
  },
  "language_info": {
   "codemirror_mode": {
    "name": "ipython",
    "version": 3
   },
   "file_extension": ".py",
   "mimetype": "text/x-python",
   "name": "python",
   "nbconvert_exporter": "python",
   "pygments_lexer": "ipython3",
   "version": "3.6.4"
  }
 },
 "nbformat": 4,
 "nbformat_minor": 2
}
