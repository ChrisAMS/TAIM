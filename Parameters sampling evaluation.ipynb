{
 "cells": [
  {
   "cell_type": "code",
   "execution_count": 1,
   "metadata": {},
   "outputs": [],
   "source": [
    "import numpy as np\n",
    "import scipy.stats as stats\n",
    "from utils import gibbs_sampling"
   ]
  },
  {
   "cell_type": "code",
   "execution_count": 2,
   "metadata": {},
   "outputs": [],
   "source": [
    "# Model hyperparameters.\n",
    "p = 2\n",
    "K = 2"
   ]
  },
  {
   "cell_type": "code",
   "execution_count": 3,
   "metadata": {},
   "outputs": [
    {
     "name": "stdout",
     "output_type": "stream",
     "text": [
      "A1:\n",
      "[[0.29 0.05]\n",
      " [0.32 0.46]]\n",
      "A2:\n",
      "[[0.001 0.15 ]\n",
      " [0.3   0.34 ]]\n",
      "[[0.29  0.05  0.001 0.15 ]\n",
      " [0.32  0.46  0.3   0.34 ]]\n",
      "CovU\n",
      "[[9 0]\n",
      " [0 4]]\n"
     ]
    }
   ],
   "source": [
    "# Model parameters.\n",
    "A1 = np.array([[0.29, 0.05], [0.32, 0.46]])\n",
    "print('A1:')\n",
    "print(A1)\n",
    "A2 = np.array([[0.001, 0.15], [0.3, 0.34]])\n",
    "print('A2:')\n",
    "print(A2)\n",
    "A = np.concatenate([A1, A2], axis=1)\n",
    "print(A)\n",
    "CovU = np.array([[9, 0], [0, 4]])\n",
    "print('CovU')\n",
    "print(CovU)"
   ]
  },
  {
   "cell_type": "markdown",
   "metadata": {},
   "source": [
    "Chequeamos si cumple las condiciones requeridas:"
   ]
  },
  {
   "cell_type": "code",
   "execution_count": 4,
   "metadata": {},
   "outputs": [
    {
     "name": "stdout",
     "output_type": "stream",
     "text": [
      "True\n"
     ]
    }
   ],
   "source": [
    "#se chequea que la matriz CovU sea adecuada (semidefinida positiva)\n",
    "eig_val_U = np.linalg.eigvals(CovU)\n",
    "flag_sdp  = np.all(eig_val_U >= 0) and np.all(np.isreal(eig_val_U)) #valores propios no negativos y reales \n",
    "print(flag_sdp)"
   ]
  },
  {
   "cell_type": "code",
   "execution_count": 5,
   "metadata": {},
   "outputs": [
    {
     "name": "stdout",
     "output_type": "stream",
     "text": [
      "[0.98621062 0.31920693 0.31920693 0.44443108]\n",
      "True\n"
     ]
    }
   ],
   "source": [
    "#se chequea que la matriz A sea adecuada (proceso estable, pag 15 Lutkepohl)\n",
    "if(p==1): #no es necesario agregar bloque \n",
    "    A_test = A\n",
    "else:\n",
    "    A_block  = np.block(np.eye(K*(p-1)))\n",
    "    A_zeros  = np.zeros((K*(p-1),K))\n",
    "    A_bottom = np.concatenate((A_block,A_zeros),axis=1)\n",
    "    A_test   = np.concatenate((A,A_bottom),axis=0)\n",
    "eig_val_A   = np.absolute(np.linalg.eigvals(A_test))\n",
    "print(eig_val_A)\n",
    "flag_stable = np.all(eig_val_A < 1) #valores propios absolutos menores a 1\n",
    "print(flag_stable)"
   ]
  },
  {
   "cell_type": "code",
   "execution_count": 6,
   "metadata": {},
   "outputs": [],
   "source": [
    "# Real normalized data.\n",
    "#[[0.87010704 0.89617185 0.94830146 1.10469029 1.1307551  1.18288471]\n",
    "# [1.386914   1.54056019 1.61738329 1.64299099 1.66859869 1.66859869]]"
   ]
  },
  {
   "cell_type": "code",
   "execution_count": 7,
   "metadata": {},
   "outputs": [],
   "source": [
    "# Initial values.\n",
    "y0a = np.array([0.87010704, 1.386914])\n",
    "y1a = np.array([0.89617185, 1.54056019])\n",
    "y0b = np.array([0.94830146, 1.61738329])\n",
    "y1b = np.array([1.10469029, 1.64299099])"
   ]
  },
  {
   "cell_type": "code",
   "execution_count": 8,
   "metadata": {},
   "outputs": [],
   "source": [
    "def generate_data(A1, A2, covu, N, y0, y1):\n",
    "    q = stats.multivariate_normal(mean=[0, 0], cov=covu)\n",
    "    data = np.zeros((2, N))\n",
    "    data[:, 0] = y0\n",
    "    data[:, 1] = y1\n",
    "    for i in range(2, N):\n",
    "        new_y = np.dot(A1, y1) + np.dot(A2, y0) + q.rvs()\n",
    "        data[:, i] = new_y\n",
    "        y0 = y1\n",
    "        y1 = new_y\n",
    "    return data"
   ]
  },
  {
   "cell_type": "code",
   "execution_count": 9,
   "metadata": {},
   "outputs": [],
   "source": [
    "# Fictional data.\n",
    "data = generate_data(A1, A2, CovU, 1000, y0a, y1a)\n",
    "#test_data_2 = generate_data(A1, A2, CovU, 1000, yb, yb)"
   ]
  },
  {
   "cell_type": "code",
   "execution_count": 10,
   "metadata": {},
   "outputs": [],
   "source": [
    "# Prepare data.\n",
    "X = np.zeros((K * p, data.shape[1] - p))\n",
    "j = 0\n",
    "for i in range(p, data.shape[1]):\n",
    "    for t in range(p):\n",
    "        X[t * K:(t + 1) * K, j] = data[:, (i - 1) - t]\n",
    "    j += 1\n",
    "\n",
    "Y0 = data[:, p:]"
   ]
  },
  {
   "cell_type": "code",
   "execution_count": 11,
   "metadata": {},
   "outputs": [
    {
     "name": "stdout",
     "output_type": "stream",
     "text": [
      "(2, 1000)\n",
      "(2, 998)\n",
      "(4, 998)\n"
     ]
    }
   ],
   "source": [
    "# Check data is right.\n",
    "print(data.shape)\n",
    "print(Y0.shape)\n",
    "print(X.shape)"
   ]
  },
  {
   "cell_type": "code",
   "execution_count": 12,
   "metadata": {},
   "outputs": [
    {
     "name": "stdout",
     "output_type": "stream",
     "text": [
      "[[0.87010704 0.89617185 1.40250928 1.80786654 5.35489645 0.63605447]\n",
      " [1.386914   1.54056019 3.20291981 5.51482688 5.66968432 5.07624091]]\n",
      "[[1.40250928 1.80786654 5.35489645 0.63605447 0.10125346 4.68282633]\n",
      " [3.20291981 5.51482688 5.66968432 5.07624091 5.15553306 5.39314347]]\n",
      "[[0.89617185 1.40250928 1.80786654 5.35489645 0.63605447 0.10125346]\n",
      " [1.54056019 3.20291981 5.51482688 5.66968432 5.07624091 5.15553306]\n",
      " [0.87010704 0.89617185 1.40250928 1.80786654 5.35489645 0.63605447]\n",
      " [1.386914   1.54056019 3.20291981 5.51482688 5.66968432 5.07624091]]\n"
     ]
    }
   ],
   "source": [
    "# Check data is right. x2\n",
    "print(data[:, :6])\n",
    "print(Y0[:, :6])\n",
    "print(X[:, :6])"
   ]
  },
  {
   "cell_type": "code",
   "execution_count": 13,
   "metadata": {},
   "outputs": [
    {
     "name": "stdout",
     "output_type": "stream",
     "text": [
      "Initializing parameters...\n",
      "lk init: -81299.27103141365\n",
      "Calculating MLE...\n",
      "Init MLE theta calculated! (-59732.01626181304)\n",
      "[[-0.41602623  1.27914777 -0.11330126  0.07328838]\n",
      " [ 0.25252017 -0.2251658   0.46214763  0.54518681]]\n",
      "[[7.98859903 0.8619511 ]\n",
      " [0.8619511  0.56787422]]\n",
      "Iteration 0\n",
      "accepted: 10.0%%\n",
      "accepted: 20.0%%\n",
      "accepted: 40.0%%\n",
      "accepted: 20.0%%\n",
      "accepted: 20.0%%\n",
      "accepted: 10.0%%\n",
      "accepted: 10.0%%\n",
      "accepted: 0.0%%\n",
      "accepted: 70.0%%\n",
      "accepted: 60.0%%\n",
      "accepted: 30.0%%\n",
      "accepted: 40.0%%\n",
      "LK of new theta: -6692.228375981051\n",
      "Time for iteration 0: 0.5031588077545166\n",
      "Iteration 1\n",
      "accepted: 40.0%%\n",
      "accepted: 0.0%%\n",
      "accepted: 30.0%%\n",
      "accepted: 20.0%%\n",
      "accepted: 40.0%%\n",
      "accepted: 10.0%%\n",
      "accepted: 40.0%%\n",
      "accepted: 10.0%%\n",
      "accepted: 50.0%%\n",
      "accepted: 40.0%%\n",
      "accepted: 40.0%%\n",
      "accepted: 30.0%%\n",
      "LK of new theta: -3278.773749448134\n",
      "Time for iteration 1: 0.49393749237060547\n",
      "Iteration 2\n",
      "accepted: 50.0%%\n",
      "accepted: 40.0%%\n",
      "accepted: 40.0%%\n",
      "accepted: 30.0%%\n",
      "accepted: 30.0%%\n",
      "accepted: 10.0%%\n",
      "accepted: 20.0%%\n",
      "accepted: 20.0%%\n",
      "accepted: 20.0%%\n",
      "accepted: 50.0%%\n",
      "accepted: 20.0%%\n",
      "accepted: 40.0%%\n",
      "LK of new theta: -3410.112977534086\n",
      "Time for iteration 2: 0.511479377746582\n",
      "Iteration 3\n",
      "accepted: 40.0%%\n",
      "accepted: 10.0%%\n",
      "accepted: 20.0%%\n",
      "accepted: 20.0%%\n",
      "accepted: 40.0%%\n",
      "accepted: 0.0%%\n",
      "accepted: 20.0%%\n",
      "accepted: 0.0%%\n",
      "accepted: 50.0%%\n",
      "accepted: 50.0%%\n",
      "accepted: 40.0%%\n",
      "accepted: 20.0%%\n",
      "LK of new theta: -3308.415210330901\n",
      "Time for iteration 3: 0.4907827377319336\n",
      "Iteration 4\n",
      "accepted: 20.0%%\n",
      "accepted: 10.0%%\n",
      "accepted: 20.0%%\n",
      "accepted: 10.0%%\n",
      "accepted: 30.0%%\n",
      "accepted: 30.0%%\n",
      "accepted: 10.0%%\n",
      "accepted: 10.0%%\n",
      "accepted: 30.0%%\n",
      "accepted: 60.0%%\n",
      "accepted: 30.0%%\n",
      "accepted: 50.0%%\n",
      "LK of new theta: -3179.0468089723945\n",
      "Time for iteration 4: 0.49991798400878906\n",
      "Finished!\n"
     ]
    }
   ],
   "source": [
    "# Run sampler.\n",
    "DATA_PATH = '/home/chrisams/Documents/datasets/data_TAIM/processed/'\n",
    "q = stats.norm\n",
    "K = 2\n",
    "p = 2\n",
    "iters = 5\n",
    "debug = False\n",
    "mh_iters = 10\n",
    "n_rows = 10000 # Number of rows of the data to load\n",
    "method = 'normal'\n",
    "init_mle = True\n",
    "annealing = True\n",
    "T0 = 500\n",
    "TF = 1\n",
    "annealing_n = 5\n",
    "T = lambda t: T0 * ((TF / T0) ** (t / annealing_n))\n",
    "\n",
    "samples = gibbs_sampling(iters, DATA_PATH, K, p, q, mh_iters=mh_iters, init_mle=init_mle, n_rows=None,\\\n",
    "                         debug=False, method='normal', X=X, Y0=Y0, annealing=annealing, T=T,\\\n",
    "                         annealing_n=annealing_n)"
   ]
  },
  {
   "cell_type": "code",
   "execution_count": 14,
   "metadata": {},
   "outputs": [
    {
     "name": "stdout",
     "output_type": "stream",
     "text": [
      "[array([[-0.72964384, -0.03052746,  0.13204231,  0.07328838],\n",
      "       [ 0.33368739,  0.15377899,  0.44656863,  0.54518681]]), array([[6.22370714, 0.20887699],\n",
      "       [0.2507407 , 0.71344667]])]\n",
      "--------------------\n",
      "[array([[ 0.55819008, -0.03052746, -0.02844332,  0.00955649],\n",
      "       [ 0.33368739,  0.15377899,  0.44656863,  0.6202993 ]]), array([[ 4.34785706,  2.56315876],\n",
      "       [-1.91816194,  2.09403251]])]\n",
      "--------------------\n",
      "[array([[ 1.07084015, -0.06233679, -0.52919588,  0.18450179],\n",
      "       [ 0.19391048,  0.0635248 ,  0.44656863,  0.58757325]]), array([[ 3.81646078,  2.12044692],\n",
      "       [-2.62355743,  2.30346454]])]\n",
      "--------------------\n",
      "[array([[ 0.73201654, -0.06233679, -0.52919588,  0.18450179],\n",
      "       [ 0.47023028,  0.09971281,  0.44656863,  0.58757325]]), array([[ 4.69149835,  2.26892579],\n",
      "       [-1.60556949,  2.52467395]])]\n",
      "--------------------\n",
      "[array([[ 0.94621514, -0.05189677, -0.55756058,  0.18450179],\n",
      "       [ 0.27694427,  0.23202042,  0.44656863,  0.58757325]]), array([[ 4.04780243,  0.36125574],\n",
      "       [-2.20070699,  2.52467395]])]\n",
      "--------------------\n"
     ]
    }
   ],
   "source": [
    "# Print for comparison.\n",
    "for sample in samples:\n",
    "    print(sample)\n",
    "    print('-' * 20)"
   ]
  },
  {
   "cell_type": "code",
   "execution_count": 15,
   "metadata": {},
   "outputs": [
    {
     "name": "stdout",
     "output_type": "stream",
     "text": [
      "A1:\n",
      "[[0.29 0.05]\n",
      " [0.32 0.46]]\n",
      "A2:\n",
      "[[0.001 0.15 ]\n",
      " [0.3   0.34 ]]\n",
      "[[0.29  0.05  0.001 0.15 ]\n",
      " [0.32  0.46  0.3   0.34 ]]\n",
      "CovU\n",
      "[[9 0]\n",
      " [0 4]]\n"
     ]
    }
   ],
   "source": [
    "# Model parameters.\n",
    "A1 = np.array([[0.29, 0.05], [0.32, 0.46]])\n",
    "print('A1:')\n",
    "print(A1)\n",
    "A2 = np.array([[0.001, 0.15], [0.3, 0.34]])\n",
    "print('A2:')\n",
    "print(A2)\n",
    "A = np.concatenate([A1, A2], axis=1)\n",
    "print(A)\n",
    "CovU = np.array([[9, 0], [0, 4]])\n",
    "print('CovU')\n",
    "print(CovU)"
   ]
  },
  {
   "cell_type": "code",
   "execution_count": 16,
   "metadata": {},
   "outputs": [
    {
     "data": {
      "text/plain": [
       "1"
      ]
     },
     "execution_count": 16,
     "metadata": {},
     "output_type": "execute_result"
    }
   ],
   "source": [
    "np.random.choice([1, 3, 4])"
   ]
  },
  {
   "cell_type": "code",
   "execution_count": null,
   "metadata": {},
   "outputs": [],
   "source": []
  },
  {
   "cell_type": "code",
   "execution_count": null,
   "metadata": {},
   "outputs": [],
   "source": []
  },
  {
   "cell_type": "code",
   "execution_count": null,
   "metadata": {},
   "outputs": [],
   "source": []
  }
 ],
 "metadata": {
  "kernelspec": {
   "display_name": "Python 3",
   "language": "python",
   "name": "python3"
  },
  "language_info": {
   "codemirror_mode": {
    "name": "ipython",
    "version": 3
   },
   "file_extension": ".py",
   "mimetype": "text/x-python",
   "name": "python",
   "nbconvert_exporter": "python",
   "pygments_lexer": "ipython3",
   "version": "3.6.5"
  }
 },
 "nbformat": 4,
 "nbformat_minor": 2
}
