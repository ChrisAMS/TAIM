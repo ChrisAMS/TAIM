{
 "cells": [
  {
   "cell_type": "code",
   "execution_count": 1,
   "metadata": {},
   "outputs": [],
   "source": [
    "import numpy as np\n",
    "import scipy.stats as stats\n",
    "from utils import gibbs_sampling"
   ]
  },
  {
   "cell_type": "code",
   "execution_count": 2,
   "metadata": {},
   "outputs": [],
   "source": [
    "# Model hyperparameters.\n",
    "p = 2\n",
    "K = 2"
   ]
  },
  {
   "cell_type": "code",
   "execution_count": 3,
   "metadata": {},
   "outputs": [
    {
     "name": "stdout",
     "output_type": "stream",
     "text": [
      "A1:\n",
      "[[0.29 0.05]\n",
      " [0.32 0.46]]\n",
      "A2:\n",
      "[[0.001 0.15 ]\n",
      " [0.3   0.34 ]]\n",
      "[[0.29  0.05  0.001 0.15 ]\n",
      " [0.32  0.46  0.3   0.34 ]]\n",
      "CovU\n",
      "[[9 0]\n",
      " [0 4]]\n"
     ]
    }
   ],
   "source": [
    "# Model parameters.\n",
    "A1 = np.array([[0.29, 0.05], [0.32, 0.46]])\n",
    "print('A1:')\n",
    "print(A1)\n",
    "A2 = np.array([[0.001, 0.15], [0.3, 0.34]])\n",
    "print('A2:')\n",
    "print(A2)\n",
    "A = np.concatenate([A1, A2], axis=1)\n",
    "print(A)\n",
    "CovU = np.array([[9, 0], [0, 4]])\n",
    "print('CovU')\n",
    "print(CovU)"
   ]
  },
  {
   "cell_type": "markdown",
   "metadata": {},
   "source": [
    "Chequeamos si cumple las condiciones requeridas:"
   ]
  },
  {
   "cell_type": "code",
   "execution_count": 4,
   "metadata": {},
   "outputs": [
    {
     "name": "stdout",
     "output_type": "stream",
     "text": [
      "True\n"
     ]
    }
   ],
   "source": [
    "#se chequea que la matriz CovU sea adecuada (semidefinida positiva)\n",
    "eig_val_U = np.linalg.eigvals(CovU)\n",
    "flag_sdp  = np.all(eig_val_U >= 0) and np.all(np.isreal(eig_val_U)) #valores propios no negativos y reales \n",
    "print(flag_sdp)"
   ]
  },
  {
   "cell_type": "code",
   "execution_count": 5,
   "metadata": {},
   "outputs": [
    {
     "name": "stdout",
     "output_type": "stream",
     "text": [
      "[0.98621062 0.31920693 0.31920693 0.44443108]\n",
      "True\n"
     ]
    }
   ],
   "source": [
    "#se chequea que la matriz A sea adecuada (proceso estable, pag 15 Lutkepohl)\n",
    "if(p==1): #no es necesario agregar bloque \n",
    "    A_test = A\n",
    "else:\n",
    "    A_block  = np.block(np.eye(K*(p-1)))\n",
    "    A_zeros  = np.zeros((K*(p-1),K))\n",
    "    A_bottom = np.concatenate((A_block,A_zeros),axis=1)\n",
    "    A_test   = np.concatenate((A,A_bottom),axis=0)\n",
    "eig_val_A   = np.absolute(np.linalg.eigvals(A_test))\n",
    "print(eig_val_A)\n",
    "flag_stable = np.all(eig_val_A < 1) #valores propios absolutos menores a 1\n",
    "print(flag_stable)"
   ]
  },
  {
   "cell_type": "code",
   "execution_count": 6,
   "metadata": {},
   "outputs": [],
   "source": [
    "# Real normalized data.\n",
    "#[[0.87010704 0.89617185 0.94830146 1.10469029 1.1307551  1.18288471]\n",
    "# [1.386914   1.54056019 1.61738329 1.64299099 1.66859869 1.66859869]]"
   ]
  },
  {
   "cell_type": "code",
   "execution_count": 7,
   "metadata": {},
   "outputs": [],
   "source": [
    "# Initial values.\n",
    "y0a = np.array([0.87010704, 1.386914])\n",
    "y1a = np.array([0.89617185, 1.54056019])\n",
    "y0b = np.array([0.94830146, 1.61738329])\n",
    "y1b = np.array([1.10469029, 1.64299099])"
   ]
  },
  {
   "cell_type": "code",
   "execution_count": 8,
   "metadata": {},
   "outputs": [],
   "source": [
    "def generate_data(A1, A2, covu, N, y0, y1):\n",
    "    q = stats.multivariate_normal(mean=[0, 0], cov=covu)\n",
    "    data = np.zeros((2, N))\n",
    "    data[:, 0] = y0\n",
    "    data[:, 1] = y1\n",
    "    for i in range(2, N):\n",
    "        new_y = np.dot(A1, y1) + np.dot(A2, y0) + q.rvs()\n",
    "        data[:, i] = new_y\n",
    "        y0 = y1\n",
    "        y1 = new_y\n",
    "    return data"
   ]
  },
  {
   "cell_type": "code",
   "execution_count": 9,
   "metadata": {},
   "outputs": [],
   "source": [
    "# Fictional data.\n",
    "data = generate_data(A1, A2, CovU, 1000, y0a, y1a)\n",
    "#test_data_2 = generate_data(A1, A2, CovU, 1000, yb, yb)"
   ]
  },
  {
   "cell_type": "code",
   "execution_count": 10,
   "metadata": {},
   "outputs": [],
   "source": [
    "# Prepare data.\n",
    "X = np.zeros((K * p, data.shape[1] - p))\n",
    "j = 0\n",
    "for i in range(p, data.shape[1]):\n",
    "    for t in range(p):\n",
    "        X[t * K:(t + 1) * K, j] = data[:, (i - 1) - t]\n",
    "    j += 1\n",
    "\n",
    "Y0 = data[:, p:]"
   ]
  },
  {
   "cell_type": "code",
   "execution_count": 11,
   "metadata": {},
   "outputs": [
    {
     "name": "stdout",
     "output_type": "stream",
     "text": [
      "(2, 1000)\n",
      "(2, 998)\n",
      "(4, 998)\n"
     ]
    }
   ],
   "source": [
    "# Check data is right.\n",
    "print(data.shape)\n",
    "print(Y0.shape)\n",
    "print(X.shape)"
   ]
  },
  {
   "cell_type": "code",
   "execution_count": 12,
   "metadata": {},
   "outputs": [
    {
     "name": "stdout",
     "output_type": "stream",
     "text": [
      "[[ 0.87010704  0.89617185 -0.67364212 -1.44787207 -2.17799927 -0.40400683]\n",
      " [ 1.386914    1.54056019  3.50662015  3.15947227 -3.44686048 -1.52371379]]\n",
      "[[-0.67364212 -1.44787207 -2.17799927 -0.40400683 -1.30668912 -5.62527877]\n",
      " [ 3.50662015  3.15947227 -3.44686048 -1.52371379 -3.72624782 -2.67263122]]\n",
      "[[ 0.89617185 -0.67364212 -1.44787207 -2.17799927 -0.40400683 -1.30668912]\n",
      " [ 1.54056019  3.50662015  3.15947227 -3.44686048 -1.52371379 -3.72624782]\n",
      " [ 0.87010704  0.89617185 -0.67364212 -1.44787207 -2.17799927 -0.40400683]\n",
      " [ 1.386914    1.54056019  3.50662015  3.15947227 -3.44686048 -1.52371379]]\n"
     ]
    }
   ],
   "source": [
    "# Check data is right. x2\n",
    "print(data[:, :6])\n",
    "print(Y0[:, :6])\n",
    "print(X[:, :6])"
   ]
  },
  {
   "cell_type": "code",
   "execution_count": 13,
   "metadata": {},
   "outputs": [
    {
     "name": "stdout",
     "output_type": "stream",
     "text": [
      "Initializing parameters...\n",
      "lk init: -860534932.5482124\n",
      "Calculating MLE...\n",
      "Init MLE theta calculated! (-17516.272218794773)\n",
      "[[ 0.65725502  0.08728099 -0.09592984 -0.26315723]\n",
      " [-0.70250393  0.0469149   0.90798888  1.00653891]]\n",
      "[[1.14682113 0.83307747]\n",
      " [0.83307747 5.78520451]]\n",
      "Iteration 0\n",
      "rejected: 47\n",
      "accepted: 3\n",
      "rejected: 46\n",
      "accepted: 4\n",
      "rejected: 49\n",
      "accepted: 1\n",
      "rejected: 43\n",
      "accepted: 7\n",
      "rejected: 48\n",
      "accepted: 2\n",
      "rejected: 46\n",
      "accepted: 4\n",
      "rejected: 48\n",
      "accepted: 2\n",
      "rejected: 50\n",
      "accepted: 0\n",
      "rejected: 45\n",
      "accepted: 5\n",
      "rejected: 49\n",
      "accepted: 1\n",
      "rejected: 48\n",
      "accepted: 2\n",
      "rejected: 45\n",
      "accepted: 5\n",
      "LK of new theta: -3940.029528137948\n",
      "Time for iteration 0: 6.137133836746216\n",
      "Iteration 1\n",
      "rejected: 42\n",
      "accepted: 8\n",
      "rejected: 44\n",
      "accepted: 6\n",
      "rejected: 41\n",
      "accepted: 9\n",
      "rejected: 45\n",
      "accepted: 5\n",
      "rejected: 48\n",
      "accepted: 2\n",
      "rejected: 48\n",
      "accepted: 2\n",
      "rejected: 43\n",
      "accepted: 7\n",
      "rejected: 50\n",
      "accepted: 0\n",
      "rejected: 49\n",
      "accepted: 1\n",
      "rejected: 43\n",
      "accepted: 7\n",
      "rejected: 47\n",
      "accepted: 3\n",
      "rejected: 46\n",
      "accepted: 4\n",
      "LK of new theta: -3596.5222117117173\n",
      "Time for iteration 1: 7.422520875930786\n",
      "Iteration 2\n",
      "rejected: 47\n",
      "accepted: 3\n",
      "rejected: 48\n",
      "accepted: 2\n",
      "rejected: 48\n",
      "accepted: 2\n",
      "rejected: 45\n",
      "accepted: 5\n",
      "rejected: 49\n",
      "accepted: 1\n",
      "rejected: 44\n",
      "accepted: 6\n",
      "rejected: 46\n",
      "accepted: 4\n",
      "rejected: 50\n",
      "accepted: 0\n",
      "rejected: 47\n",
      "accepted: 3\n",
      "rejected: 46\n",
      "accepted: 4\n",
      "rejected: 48\n",
      "accepted: 2\n",
      "rejected: 48\n",
      "accepted: 2\n",
      "LK of new theta: -3449.7355201806886\n",
      "Time for iteration 2: 6.862488031387329\n",
      "Iteration 3\n",
      "rejected: 47\n",
      "accepted: 3\n",
      "rejected: 49\n",
      "accepted: 1\n",
      "rejected: 48\n",
      "accepted: 2\n",
      "rejected: 47\n",
      "accepted: 3\n",
      "rejected: 46\n",
      "accepted: 4\n",
      "rejected: 48\n",
      "accepted: 2\n",
      "rejected: 49\n",
      "accepted: 1\n",
      "rejected: 50\n",
      "accepted: 0\n",
      "rejected: 46\n",
      "accepted: 4\n",
      "rejected: 48\n",
      "accepted: 2\n",
      "rejected: 49\n",
      "accepted: 1\n",
      "rejected: 48\n",
      "accepted: 2\n",
      "LK of new theta: -3422.6860725234674\n",
      "Time for iteration 3: 6.649462938308716\n",
      "Iteration 4\n",
      "rejected: 48\n",
      "accepted: 2\n",
      "rejected: 50\n",
      "accepted: 0\n",
      "rejected: 48\n",
      "accepted: 2\n",
      "rejected: 46\n",
      "accepted: 4\n",
      "rejected: 47\n",
      "accepted: 3\n",
      "rejected: 47\n",
      "accepted: 3\n",
      "rejected: 47\n",
      "accepted: 3\n",
      "rejected: 50\n",
      "accepted: 0\n",
      "rejected: 47\n",
      "accepted: 3\n",
      "rejected: 44\n",
      "accepted: 6\n",
      "rejected: 48\n",
      "accepted: 2\n",
      "rejected: 49\n",
      "accepted: 1\n",
      "LK of new theta: -3411.6130804574923\n",
      "Time for iteration 4: 7.378958702087402\n",
      "Finished!\n"
     ]
    }
   ],
   "source": [
    "# Run sampler.\n",
    "DATA_PATH = '/home/chrisams/Documents/datasets/data_TAIM/processed/'\n",
    "q = stats.norm\n",
    "K = 2\n",
    "p = 2\n",
    "iters = 5\n",
    "debug = False\n",
    "mh_iters = 50\n",
    "n_rows = 10000 # Number of rows of the data to load\n",
    "method = 'normal'\n",
    "init_mle = True\n",
    "\n",
    "samples = gibbs_sampling(iters, DATA_PATH, K, p, q, mh_iters=mh_iters, init_mle=init_mle, n_rows=None,\\\n",
    "                         debug=False, method='normal', X=X, Y0=Y0)"
   ]
  },
  {
   "cell_type": "code",
   "execution_count": 14,
   "metadata": {},
   "outputs": [
    {
     "name": "stdout",
     "output_type": "stream",
     "text": [
      "[array([[ 0.82783098,  0.22895882, -0.10456639, -0.13366021],\n",
      "       [-0.59934428, -0.09955308,  0.82332207,  1.00653891]]), array([[15.86108374,  0.09656991],\n",
      "       [ 0.09656991, 20.77708368]])]\n",
      "--------------------\n",
      "[array([[ 0.82783098,  0.22895882, -0.10456639, -0.13366021],\n",
      "       [-0.59934428, -0.09955308,  0.82332207,  1.00653891]]), array([[19.13062055, -7.87381988],\n",
      "       [-7.87381988, 17.23641972]])]\n",
      "--------------------\n",
      "[array([[ 0.82783098,  0.22895882, -0.10456639, -0.13366021],\n",
      "       [-0.59934428, -0.09955308,  0.82332207,  1.00653891]]), array([[12.95883929, -6.31019183],\n",
      "       [-6.31019183, 16.30607269]])]\n",
      "--------------------\n",
      "[array([[ 0.82783098,  0.22895882, -0.10456639, -0.13366021],\n",
      "       [-0.59934428, -0.09955308,  0.82332207,  1.00653891]]), array([[11.4602719 , -4.90970147],\n",
      "       [-4.90970147, 13.13862295]])]\n",
      "--------------------\n",
      "[array([[ 0.82783098,  0.22895882, -0.10456639, -0.13366021],\n",
      "       [-0.59934428, -0.09955308,  0.82332207,  1.00653891]]), array([[11.97582251, -5.06405213],\n",
      "       [-5.06405213, 13.75890764]])]\n",
      "--------------------\n"
     ]
    }
   ],
   "source": [
    "# Print for comparison.\n",
    "for sample in samples:\n",
    "    print(sample)\n",
    "    print('-' * 20)"
   ]
  },
  {
   "cell_type": "code",
   "execution_count": 15,
   "metadata": {},
   "outputs": [
    {
     "name": "stdout",
     "output_type": "stream",
     "text": [
      "A1:\n",
      "[[0.29 0.05]\n",
      " [0.32 0.46]]\n",
      "A2:\n",
      "[[0.001 0.15 ]\n",
      " [0.3   0.34 ]]\n",
      "[[0.29  0.05  0.001 0.15 ]\n",
      " [0.32  0.46  0.3   0.34 ]]\n",
      "CovU\n",
      "[[9 0]\n",
      " [0 4]]\n"
     ]
    }
   ],
   "source": [
    "# Model parameters.\n",
    "A1 = np.array([[0.29, 0.05], [0.32, 0.46]])\n",
    "print('A1:')\n",
    "print(A1)\n",
    "A2 = np.array([[0.001, 0.15], [0.3, 0.34]])\n",
    "print('A2:')\n",
    "print(A2)\n",
    "A = np.concatenate([A1, A2], axis=1)\n",
    "print(A)\n",
    "CovU = np.array([[9, 0], [0, 4]])\n",
    "print('CovU')\n",
    "print(CovU)"
   ]
  },
  {
   "cell_type": "code",
   "execution_count": null,
   "metadata": {},
   "outputs": [],
   "source": []
  },
  {
   "cell_type": "code",
   "execution_count": null,
   "metadata": {},
   "outputs": [],
   "source": []
  },
  {
   "cell_type": "code",
   "execution_count": null,
   "metadata": {},
   "outputs": [],
   "source": []
  },
  {
   "cell_type": "code",
   "execution_count": null,
   "metadata": {},
   "outputs": [],
   "source": []
  }
 ],
 "metadata": {
  "kernelspec": {
   "display_name": "Python 3",
   "language": "python",
   "name": "python3"
  },
  "language_info": {
   "codemirror_mode": {
    "name": "ipython",
    "version": 3
   },
   "file_extension": ".py",
   "mimetype": "text/x-python",
   "name": "python",
   "nbconvert_exporter": "python",
   "pygments_lexer": "ipython3",
   "version": "3.6.5"
  }
 },
 "nbformat": 4,
 "nbformat_minor": 2
}
